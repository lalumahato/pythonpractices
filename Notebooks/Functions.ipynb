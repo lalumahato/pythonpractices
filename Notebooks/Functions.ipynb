{
 "cells": [
  {
   "cell_type": "markdown",
   "id": "49766822",
   "metadata": {},
   "source": [
    "## Function"
   ]
  },
  {
   "cell_type": "code",
   "execution_count": 1,
   "id": "d2a99f79",
   "metadata": {},
   "outputs": [],
   "source": [
    "def get_full_name():\n",
    "    first_name = 'Peter'\n",
    "    last_name = 'Parker'\n",
    "    full_name = first_name+' '+last_name\n",
    "    return full_name"
   ]
  },
  {
   "cell_type": "code",
   "execution_count": 2,
   "id": "d3e6ab23",
   "metadata": {},
   "outputs": [
    {
     "data": {
      "text/plain": [
       "'Peter Parker'"
      ]
     },
     "execution_count": 2,
     "metadata": {},
     "output_type": "execute_result"
    }
   ],
   "source": [
    "get_full_name()"
   ]
  },
  {
   "cell_type": "code",
   "execution_count": 9,
   "id": "54176f73",
   "metadata": {},
   "outputs": [],
   "source": [
    "def addition(*args):\n",
    "    res = 0\n",
    "    for i in args:\n",
    "        res += i\n",
    "    print(res)"
   ]
  },
  {
   "cell_type": "code",
   "execution_count": 10,
   "id": "5400c068",
   "metadata": {},
   "outputs": [
    {
     "name": "stdout",
     "output_type": "stream",
     "text": [
      "14\n"
     ]
    }
   ],
   "source": [
    "addition(2, 3, 4, 5)"
   ]
  },
  {
   "cell_type": "code",
   "execution_count": 15,
   "id": "b0b1fe65",
   "metadata": {},
   "outputs": [],
   "source": [
    "def myFunction(*args, **kwargs):\n",
    "    print(args)\n",
    "    print(kwargs)\n",
    "    "
   ]
  },
  {
   "cell_type": "code",
   "execution_count": 16,
   "id": "d0c02fd4",
   "metadata": {},
   "outputs": [
    {
     "name": "stdout",
     "output_type": "stream",
     "text": [
      "(2, 3)\n",
      "{'first_name': 'Peter', 'last_name': 'Parker'}\n"
     ]
    }
   ],
   "source": [
    "myFunction(2, 3, first_name='Peter', last_name='Parker')"
   ]
  },
  {
   "cell_type": "code",
   "execution_count": 17,
   "id": "ce18b1dc",
   "metadata": {},
   "outputs": [],
   "source": [
    "from statistics import *"
   ]
  },
  {
   "cell_type": "code",
   "execution_count": 18,
   "id": "54b03fda",
   "metadata": {},
   "outputs": [],
   "source": [
    "ages = [20, 20, 4, 24, 25, 22, 26, 20, 23, 22, 26]"
   ]
  },
  {
   "cell_type": "code",
   "execution_count": 19,
   "id": "9af17157",
   "metadata": {},
   "outputs": [
    {
     "data": {
      "text/plain": [
       "21.09090909090909"
      ]
     },
     "execution_count": 19,
     "metadata": {},
     "output_type": "execute_result"
    }
   ],
   "source": [
    "mean(ages)"
   ]
  },
  {
   "cell_type": "code",
   "execution_count": 20,
   "id": "89188013",
   "metadata": {},
   "outputs": [
    {
     "data": {
      "text/plain": [
       "26"
      ]
     },
     "execution_count": 20,
     "metadata": {},
     "output_type": "execute_result"
    }
   ],
   "source": [
    "max(ages)"
   ]
  },
  {
   "cell_type": "code",
   "execution_count": 21,
   "id": "e451dd5f",
   "metadata": {},
   "outputs": [
    {
     "data": {
      "text/plain": [
       "22"
      ]
     },
     "execution_count": 21,
     "metadata": {},
     "output_type": "execute_result"
    }
   ],
   "source": [
    "median(ages)"
   ]
  },
  {
   "cell_type": "code",
   "execution_count": 22,
   "id": "e24db114",
   "metadata": {},
   "outputs": [
    {
     "data": {
      "text/plain": [
       "6.106628291529549"
      ]
     },
     "execution_count": 22,
     "metadata": {},
     "output_type": "execute_result"
    }
   ],
   "source": [
    "stdev(ages)"
   ]
  },
  {
   "cell_type": "markdown",
   "id": "d5a5dab7",
   "metadata": {},
   "source": [
    "## Map function"
   ]
  },
  {
   "cell_type": "code",
   "execution_count": 24,
   "id": "7b39f5a5",
   "metadata": {},
   "outputs": [],
   "source": [
    "def even_or_odd(num):\n",
    "    if num%2 == 0:\n",
    "        return 'The number {} is even.'.format(num)\n",
    "    else:\n",
    "        return 'The number {} is odd.'.format(num)"
   ]
  },
  {
   "cell_type": "code",
   "execution_count": 25,
   "id": "52a959ca",
   "metadata": {},
   "outputs": [
    {
     "data": {
      "text/plain": [
       "'The number 10 is even'"
      ]
     },
     "execution_count": 25,
     "metadata": {},
     "output_type": "execute_result"
    }
   ],
   "source": [
    "even_or_odd(10)"
   ]
  },
  {
   "cell_type": "code",
   "execution_count": 27,
   "id": "4414d1be",
   "metadata": {},
   "outputs": [],
   "source": [
    "lst = [1, 2, 5, 16, 28, 38, 29, 40, 59, 30, 68, 69, 89, 78, 99]"
   ]
  },
  {
   "cell_type": "code",
   "execution_count": 29,
   "id": "2a7bbd84",
   "metadata": {},
   "outputs": [
    {
     "data": {
      "text/plain": [
       "['The number 1 is odd',\n",
       " 'The number 2 is even',\n",
       " 'The number 5 is odd',\n",
       " 'The number 16 is even',\n",
       " 'The number 28 is even',\n",
       " 'The number 38 is even',\n",
       " 'The number 29 is odd',\n",
       " 'The number 40 is even',\n",
       " 'The number 59 is odd',\n",
       " 'The number 30 is even',\n",
       " 'The number 68 is even',\n",
       " 'The number 69 is odd',\n",
       " 'The number 89 is odd',\n",
       " 'The number 78 is even',\n",
       " 'The number 99 is odd']"
      ]
     },
     "execution_count": 29,
     "metadata": {},
     "output_type": "execute_result"
    }
   ],
   "source": [
    "list(map(even_or_odd, lst))"
   ]
  },
  {
   "cell_type": "markdown",
   "id": "92a11120",
   "metadata": {},
   "source": [
    "## Filter function"
   ]
  },
  {
   "cell_type": "code",
   "execution_count": 36,
   "id": "7957f90b",
   "metadata": {},
   "outputs": [],
   "source": [
    "def even_or_odd_check(num):\n",
    "    if num%2 == 0:\n",
    "        return True"
   ]
  },
  {
   "cell_type": "code",
   "execution_count": 37,
   "id": "d40ebfc4",
   "metadata": {},
   "outputs": [],
   "source": [
    "lst = [1, 2, 5, 16, 28, 38, 29, 40, 59, 30, 68, 69, 89, 78, 99]"
   ]
  },
  {
   "cell_type": "code",
   "execution_count": 38,
   "id": "babe502a",
   "metadata": {},
   "outputs": [
    {
     "data": {
      "text/plain": [
       "[2, 16, 28, 38, 40, 30, 68, 78]"
      ]
     },
     "execution_count": 38,
     "metadata": {},
     "output_type": "execute_result"
    }
   ],
   "source": [
    "list(filter(even_or_odd_check, lst))"
   ]
  },
  {
   "cell_type": "code",
   "execution_count": 40,
   "id": "0d5ad5b5",
   "metadata": {},
   "outputs": [
    {
     "data": {
      "text/plain": [
       "[2, 16, 28, 38, 40, 30, 68, 78]"
      ]
     },
     "execution_count": 40,
     "metadata": {},
     "output_type": "execute_result"
    }
   ],
   "source": [
    "list(filter(lambda num: num%2 == 0, lst))"
   ]
  },
  {
   "cell_type": "code",
   "execution_count": null,
   "id": "33f8fb0b",
   "metadata": {},
   "outputs": [],
   "source": []
  }
 ],
 "metadata": {
  "kernelspec": {
   "display_name": "Python 3",
   "language": "python",
   "name": "python3"
  },
  "language_info": {
   "codemirror_mode": {
    "name": "ipython",
    "version": 3
   },
   "file_extension": ".py",
   "mimetype": "text/x-python",
   "name": "python",
   "nbconvert_exporter": "python",
   "pygments_lexer": "ipython3",
   "version": "3.8.8"
  }
 },
 "nbformat": 4,
 "nbformat_minor": 5
}
