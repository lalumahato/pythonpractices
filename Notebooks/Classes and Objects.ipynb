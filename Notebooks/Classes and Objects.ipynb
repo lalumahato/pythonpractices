{
 "cells": [
  {
   "cell_type": "code",
   "execution_count": 1,
   "id": "13babd2e",
   "metadata": {},
   "outputs": [],
   "source": [
    "class Person:\n",
    "    def __init__(self, name):\n",
    "        self.name = name"
   ]
  },
  {
   "cell_type": "code",
   "execution_count": 3,
   "id": "25733bec",
   "metadata": {},
   "outputs": [],
   "source": [
    "p1 = Person('Peter')"
   ]
  },
  {
   "cell_type": "code",
   "execution_count": 4,
   "id": "17666d9d",
   "metadata": {},
   "outputs": [
    {
     "data": {
      "text/plain": [
       "'Peter'"
      ]
     },
     "execution_count": 4,
     "metadata": {},
     "output_type": "execute_result"
    }
   ],
   "source": [
    "p1.name"
   ]
  },
  {
   "cell_type": "code",
   "execution_count": 6,
   "id": "f6c52376",
   "metadata": {},
   "outputs": [],
   "source": [
    "class Person:\n",
    "    def __init__(self, first_name, last_name, age):\n",
    "        self.first_name = first_name\n",
    "        self.last_name = last_name\n",
    "        self.age = age\n",
    "        \n",
    "    def full_name(self):\n",
    "        return f'Full Name: {self.first_name} {self.last_name}'\n",
    "    \n",
    "    def get_age(self):\n",
    "        return f'Person age: {self.age}'"
   ]
  },
  {
   "cell_type": "code",
   "execution_count": 7,
   "id": "8d43a9d8",
   "metadata": {},
   "outputs": [],
   "source": [
    "p1 = Person('Peter', 'Parker', 25)"
   ]
  },
  {
   "cell_type": "code",
   "execution_count": 8,
   "id": "afd28c6d",
   "metadata": {},
   "outputs": [
    {
     "data": {
      "text/plain": [
       "'Peter'"
      ]
     },
     "execution_count": 8,
     "metadata": {},
     "output_type": "execute_result"
    }
   ],
   "source": [
    "p1.first_name"
   ]
  },
  {
   "cell_type": "code",
   "execution_count": 9,
   "id": "c3ff7d51",
   "metadata": {},
   "outputs": [
    {
     "data": {
      "text/plain": [
       "'Parker'"
      ]
     },
     "execution_count": 9,
     "metadata": {},
     "output_type": "execute_result"
    }
   ],
   "source": [
    "p1.last_name"
   ]
  },
  {
   "cell_type": "code",
   "execution_count": 11,
   "id": "cb1dbdd9",
   "metadata": {},
   "outputs": [
    {
     "data": {
      "text/plain": [
       "'Full Name: Peter Parker'"
      ]
     },
     "execution_count": 11,
     "metadata": {},
     "output_type": "execute_result"
    }
   ],
   "source": [
    "p1.full_name()"
   ]
  },
  {
   "cell_type": "code",
   "execution_count": 12,
   "id": "67e985d4",
   "metadata": {},
   "outputs": [
    {
     "data": {
      "text/plain": [
       "'Person age: 25'"
      ]
     },
     "execution_count": 12,
     "metadata": {},
     "output_type": "execute_result"
    }
   ],
   "source": [
    "p1.get_age()"
   ]
  },
  {
   "cell_type": "code",
   "execution_count": 13,
   "id": "e62fa828",
   "metadata": {},
   "outputs": [],
   "source": [
    "class Person:\n",
    "    def __init__(self, first_name, last_name, age=25, city='NY'):\n",
    "        self.first_name = first_name\n",
    "        self.last_name = last_name\n",
    "        self.age = age\n",
    "        self.city = city\n",
    "        \n",
    "    def full_name(self):\n",
    "        return f'Full Name: {self.first_name} {self.last_name}'\n",
    "    \n",
    "    def get_age(self):\n",
    "        return f'Person age: {self.age}'\n",
    "    \n",
    "    def get_city(self):\n",
    "        return f\"Person's City: {self.city}\""
   ]
  },
  {
   "cell_type": "code",
   "execution_count": 14,
   "id": "ec64d3b7",
   "metadata": {},
   "outputs": [],
   "source": [
    "p2 = Person('Peter', 'Parker')"
   ]
  },
  {
   "cell_type": "code",
   "execution_count": 15,
   "id": "0cbf7b99",
   "metadata": {},
   "outputs": [
    {
     "data": {
      "text/plain": [
       "'NY'"
      ]
     },
     "execution_count": 15,
     "metadata": {},
     "output_type": "execute_result"
    }
   ],
   "source": [
    "p2.city"
   ]
  },
  {
   "cell_type": "code",
   "execution_count": 16,
   "id": "0d7f9f10",
   "metadata": {},
   "outputs": [],
   "source": [
    "p2 = Person('Peter', 'Parker', 30)"
   ]
  },
  {
   "cell_type": "code",
   "execution_count": 17,
   "id": "df4b3509",
   "metadata": {},
   "outputs": [
    {
     "data": {
      "text/plain": [
       "30"
      ]
     },
     "execution_count": 17,
     "metadata": {},
     "output_type": "execute_result"
    }
   ],
   "source": [
    "p2.age"
   ]
  },
  {
   "cell_type": "markdown",
   "id": "2df3b751",
   "metadata": {},
   "source": []
  },
  {
   "cell_type": "code",
   "execution_count": 18,
   "id": "0143d1a8",
   "metadata": {},
   "outputs": [],
   "source": [
    "class Person:\n",
    "    def __init__(self, first_name, last_name, age=25, city='NY'):\n",
    "        self.first_name = first_name\n",
    "        self.last_name = last_name\n",
    "        self.age = age\n",
    "        self.city = city\n",
    "        \n",
    "    def full_name(self):\n",
    "        return f'Full Name: {self.first_name} {self.last_name}'\n",
    "    \n",
    "    def get_age(self):\n",
    "        return f'Person age: {self.age}'\n",
    "    \n",
    "    def get_city(self):\n",
    "        return f\"Person's City: {self.city}\""
   ]
  },
  {
   "cell_type": "code",
   "execution_count": 19,
   "id": "0c3a314a",
   "metadata": {},
   "outputs": [],
   "source": [
    "class Student(Person):\n",
    "    pass"
   ]
  },
  {
   "cell_type": "code",
   "execution_count": 20,
   "id": "35301884",
   "metadata": {},
   "outputs": [],
   "source": [
    "st1 = Student('Peter', 'Parker')"
   ]
  },
  {
   "cell_type": "code",
   "execution_count": 21,
   "id": "dce9e7ef",
   "metadata": {},
   "outputs": [
    {
     "data": {
      "text/plain": [
       "'Peter'"
      ]
     },
     "execution_count": 21,
     "metadata": {},
     "output_type": "execute_result"
    }
   ],
   "source": [
    "st1.first_name"
   ]
  },
  {
   "cell_type": "code",
   "execution_count": 22,
   "id": "fa772989",
   "metadata": {},
   "outputs": [
    {
     "data": {
      "text/plain": [
       "'Person age: 25'"
      ]
     },
     "execution_count": 22,
     "metadata": {},
     "output_type": "execute_result"
    }
   ],
   "source": [
    "st1.get_age()"
   ]
  },
  {
   "cell_type": "code",
   "execution_count": 43,
   "id": "6353ea02",
   "metadata": {},
   "outputs": [],
   "source": [
    "class Car:\n",
    "    def __init__(self, windows, doors, engine_type):\n",
    "        self.windows = windows\n",
    "        self.doors = doors\n",
    "        self.engine_type = engine_type\n",
    "        \n",
    "    def self_driving(self):\n",
    "        return 'This is a {} car.'.format(self.engine_type)"
   ]
  },
  {
   "cell_type": "code",
   "execution_count": 44,
   "id": "27bc9508",
   "metadata": {},
   "outputs": [],
   "source": [
    "car1 = Car(4, 5, 'Petrol')"
   ]
  },
  {
   "cell_type": "code",
   "execution_count": 45,
   "id": "660e8380",
   "metadata": {},
   "outputs": [
    {
     "data": {
      "text/plain": [
       "<__main__.Car at 0x7fcb141054c0>"
      ]
     },
     "execution_count": 45,
     "metadata": {},
     "output_type": "execute_result"
    }
   ],
   "source": [
    "car1"
   ]
  },
  {
   "cell_type": "code",
   "execution_count": 46,
   "id": "85ac7369",
   "metadata": {},
   "outputs": [
    {
     "data": {
      "text/plain": [
       "5"
      ]
     },
     "execution_count": 46,
     "metadata": {},
     "output_type": "execute_result"
    }
   ],
   "source": [
    "car1.doors"
   ]
  },
  {
   "cell_type": "code",
   "execution_count": 47,
   "id": "4490feef",
   "metadata": {},
   "outputs": [
    {
     "data": {
      "text/plain": [
       "4"
      ]
     },
     "execution_count": 47,
     "metadata": {},
     "output_type": "execute_result"
    }
   ],
   "source": [
    "car1.windows"
   ]
  },
  {
   "cell_type": "code",
   "execution_count": 48,
   "id": "bbe5a503",
   "metadata": {},
   "outputs": [
    {
     "data": {
      "text/plain": [
       "'Petrol'"
      ]
     },
     "execution_count": 48,
     "metadata": {},
     "output_type": "execute_result"
    }
   ],
   "source": [
    "car1.engine_type"
   ]
  },
  {
   "cell_type": "code",
   "execution_count": 49,
   "id": "f220e3e3",
   "metadata": {},
   "outputs": [
    {
     "data": {
      "text/plain": [
       "'This is a Petrol car'"
      ]
     },
     "execution_count": 49,
     "metadata": {},
     "output_type": "execute_result"
    }
   ],
   "source": [
    "car1.self_driving()"
   ]
  },
  {
   "cell_type": "markdown",
   "id": "f3b64927",
   "metadata": {},
   "source": [
    "## Exception Handling"
   ]
  },
  {
   "cell_type": "code",
   "execution_count": 53,
   "id": "e4ddca0b",
   "metadata": {},
   "outputs": [
    {
     "ename": "NameError",
     "evalue": "name 'b' is not defined",
     "output_type": "error",
     "traceback": [
      "\u001b[0;31m---------------------------------------------------------------------------\u001b[0m",
      "\u001b[0;31mNameError\u001b[0m                                 Traceback (most recent call last)",
      "\u001b[0;32m<ipython-input-53-488068fe1e94>\u001b[0m in \u001b[0;36m<module>\u001b[0;34m\u001b[0m\n\u001b[0;32m----> 1\u001b[0;31m \u001b[0ma\u001b[0m\u001b[0;34m=\u001b[0m\u001b[0mb\u001b[0m\u001b[0;34m\u001b[0m\u001b[0;34m\u001b[0m\u001b[0m\n\u001b[0m",
      "\u001b[0;31mNameError\u001b[0m: name 'b' is not defined"
     ]
    }
   ],
   "source": [
    "a=b"
   ]
  },
  {
   "cell_type": "code",
   "execution_count": 74,
   "id": "7c69923e",
   "metadata": {},
   "outputs": [
    {
     "name": "stdout",
     "output_type": "stream",
     "text": [
      "Enter first number: 12\n",
      "Enter second number: 4\n",
      "Addition: 16\n",
      "Multiply: 48\n",
      "Division: 3.0\n"
     ]
    }
   ],
   "source": [
    "try:\n",
    "    a=int(input('Enter first number: '))\n",
    "    b=int(input('Enter second number: '))\n",
    "    print(f'Addition: {a+b}')\n",
    "    print(f'Multiply: {a*b}')\n",
    "    print(f'Division: {a/b}')\n",
    "except NameError as ne:\n",
    "    print('The user haven\\'t define the variable.')\n",
    "except ZeroDivisionError as zde:\n",
    "    print('Number should be greater than zero')\n",
    "except TypeError as te:\n",
    "    print('Datatype should be similar.')\n",
    "except Exception as ex:\n",
    "    print(ex)"
   ]
  },
  {
   "cell_type": "code",
   "execution_count": 75,
   "id": "75765938",
   "metadata": {},
   "outputs": [
    {
     "name": "stdout",
     "output_type": "stream",
     "text": [
      "Enter first number: 12\n",
      "Enter second number: 3\n",
      "Addition: 15\n",
      "Multiply: 36\n",
      "Division: 4.0\n",
      "12 3\n"
     ]
    }
   ],
   "source": [
    "try:\n",
    "    a=int(input('Enter first number: '))\n",
    "    b=int(input('Enter second number: '))\n",
    "    print(f'Addition: {a+b}')\n",
    "    print(f'Multiply: {a*b}')\n",
    "    print(f'Division: {a/b}')\n",
    "except NameError as ne:\n",
    "    print('The user haven\\'t define the variable.')\n",
    "except ZeroDivisionError as zde:\n",
    "    print('Number should be greater than zero')\n",
    "except TypeError as te:\n",
    "    print('Datatype should be similar.')\n",
    "except Exception as ex:\n",
    "    print(ex)\n",
    "else:\n",
    "    print(a, b)"
   ]
  },
  {
   "cell_type": "code",
   "execution_count": 76,
   "id": "672f587d",
   "metadata": {},
   "outputs": [
    {
     "name": "stdout",
     "output_type": "stream",
     "text": [
      "Enter first number: 12\n",
      "Enter second number: 0\n",
      "Addition: 12\n",
      "Multiply: 0\n",
      "Number should be greater than zero\n",
      "Execution is done.\n"
     ]
    }
   ],
   "source": [
    "try:\n",
    "    a=int(input('Enter first number: '))\n",
    "    b=int(input('Enter second number: '))\n",
    "    print(f'Addition: {a+b}')\n",
    "    print(f'Multiply: {a*b}')\n",
    "    print(f'Division: {a/b}')\n",
    "except NameError as ne:\n",
    "    print('The user haven\\'t define the variable.')\n",
    "except ZeroDivisionError as zde:\n",
    "    print('Number should be greater than zero')\n",
    "except TypeError as te:\n",
    "    print('Datatype should be similar.')\n",
    "except Exception as ex:\n",
    "    print(ex)\n",
    "else:\n",
    "    print(a, b)\n",
    "finally:\n",
    "    print('Execution is done.')"
   ]
  },
  {
   "cell_type": "code",
   "execution_count": null,
   "id": "1d44d514",
   "metadata": {},
   "outputs": [],
   "source": []
  },
  {
   "cell_type": "markdown",
   "id": "717042ef",
   "metadata": {},
   "source": [
    "## Custom Handling"
   ]
  },
  {
   "cell_type": "code",
   "execution_count": 83,
   "id": "6f57db2a",
   "metadata": {},
   "outputs": [],
   "source": [
    "class Error(Exception):\n",
    "    pass\n",
    "\n",
    "class dobException(Error):\n",
    "    pass"
   ]
  },
  {
   "cell_type": "code",
   "execution_count": 93,
   "id": "9f4870c4",
   "metadata": {},
   "outputs": [
    {
     "name": "stdout",
     "output_type": "stream",
     "text": [
      "Enter you date of birth: 2012\n",
      "10\n",
      "This age is not valid.\n"
     ]
    }
   ],
   "source": [
    "year = int(input('Enter you date of birth: '))\n",
    "age = 2022-year\n",
    "\n",
    "try:\n",
    "    if age<=30 & age>20:\n",
    "        print('You are able to appy for job.')\n",
    "    else:\n",
    "        raise dobException\n",
    "except dobException:\n",
    "    print('This age is not valid.')"
   ]
  },
  {
   "cell_type": "markdown",
   "id": "b3ef746f",
   "metadata": {},
   "source": [
    "## Inheritance"
   ]
  },
  {
   "cell_type": "code",
   "execution_count": 94,
   "id": "200bae32",
   "metadata": {},
   "outputs": [],
   "source": [
    "class Car:\n",
    "    def __init__(self, windows, doors, enginetype):\n",
    "        self.windows = windows\n",
    "        self.doors = doors\n",
    "        self.enginetype = enginetype\n",
    "        \n",
    "    def drive(self):\n",
    "        return 'The person drive the car.'"
   ]
  },
  {
   "cell_type": "code",
   "execution_count": 95,
   "id": "cba67f44",
   "metadata": {},
   "outputs": [],
   "source": [
    "car1 = Car(5, 4, 'Diesel')"
   ]
  },
  {
   "cell_type": "code",
   "execution_count": 96,
   "id": "f7d4201d",
   "metadata": {},
   "outputs": [
    {
     "data": {
      "text/plain": [
       "'Diesel'"
      ]
     },
     "execution_count": 96,
     "metadata": {},
     "output_type": "execute_result"
    }
   ],
   "source": [
    "car1.enginetype"
   ]
  },
  {
   "cell_type": "code",
   "execution_count": 97,
   "id": "9b113165",
   "metadata": {},
   "outputs": [
    {
     "data": {
      "text/plain": [
       "'The person drive the car.'"
      ]
     },
     "execution_count": 97,
     "metadata": {},
     "output_type": "execute_result"
    }
   ],
   "source": [
    "car1.drive()"
   ]
  },
  {
   "cell_type": "code",
   "execution_count": 101,
   "id": "cd83dc86",
   "metadata": {},
   "outputs": [],
   "source": [
    "class Audi(Car):\n",
    "    def __init__(self, windows, doors, enginetype, enableAI):\n",
    "        super().__init__(windows, doors, enginetype)\n",
    "        self.enableAI = enableAI\n",
    "    \n",
    "    def self_driving(self):\n",
    "        return 'Audi support\\'s self driving.'"
   ]
  },
  {
   "cell_type": "code",
   "execution_count": 102,
   "id": "35b3d401",
   "metadata": {},
   "outputs": [],
   "source": [
    "audi = Audi(4, 4, 'Diesel', True)"
   ]
  },
  {
   "cell_type": "code",
   "execution_count": 103,
   "id": "db4e29bc",
   "metadata": {},
   "outputs": [
    {
     "data": {
      "text/plain": [
       "True"
      ]
     },
     "execution_count": 103,
     "metadata": {},
     "output_type": "execute_result"
    }
   ],
   "source": [
    "audi.enableAI"
   ]
  },
  {
   "cell_type": "code",
   "execution_count": 104,
   "id": "72254811",
   "metadata": {},
   "outputs": [
    {
     "data": {
      "text/plain": [
       "\"Audi support's self driving.\""
      ]
     },
     "execution_count": 104,
     "metadata": {},
     "output_type": "execute_result"
    }
   ],
   "source": [
    "audi.self_driving()"
   ]
  },
  {
   "cell_type": "code",
   "execution_count": 106,
   "id": "263beff1",
   "metadata": {},
   "outputs": [
    {
     "data": {
      "text/plain": [
       "['__class__',\n",
       " '__delattr__',\n",
       " '__dict__',\n",
       " '__dir__',\n",
       " '__doc__',\n",
       " '__eq__',\n",
       " '__format__',\n",
       " '__ge__',\n",
       " '__getattribute__',\n",
       " '__gt__',\n",
       " '__hash__',\n",
       " '__init__',\n",
       " '__init_subclass__',\n",
       " '__le__',\n",
       " '__lt__',\n",
       " '__module__',\n",
       " '__ne__',\n",
       " '__new__',\n",
       " '__reduce__',\n",
       " '__reduce_ex__',\n",
       " '__repr__',\n",
       " '__setattr__',\n",
       " '__sizeof__',\n",
       " '__str__',\n",
       " '__subclasshook__',\n",
       " '__weakref__',\n",
       " 'doors',\n",
       " 'drive',\n",
       " 'enableAI',\n",
       " 'enginetype',\n",
       " 'self_driving',\n",
       " 'windows']"
      ]
     },
     "execution_count": 106,
     "metadata": {},
     "output_type": "execute_result"
    }
   ],
   "source": [
    "dir(audi)"
   ]
  },
  {
   "cell_type": "code",
   "execution_count": 107,
   "id": "0613eef3",
   "metadata": {},
   "outputs": [],
   "source": [
    "car5 = Car(4,4, 'Petrol')"
   ]
  },
  {
   "cell_type": "code",
   "execution_count": 108,
   "id": "24bffe70",
   "metadata": {},
   "outputs": [
    {
     "data": {
      "text/plain": [
       "<__main__.Car at 0x7fcb144251c0>"
      ]
     },
     "execution_count": 108,
     "metadata": {},
     "output_type": "execute_result"
    }
   ],
   "source": [
    "car5"
   ]
  },
  {
   "cell_type": "code",
   "execution_count": 114,
   "id": "f3368aeb",
   "metadata": {},
   "outputs": [
    {
     "data": {
      "text/plain": [
       "{'windows': 4, 'doors': 4, 'enginetype': 'Petrol'}"
      ]
     },
     "execution_count": 114,
     "metadata": {},
     "output_type": "execute_result"
    }
   ],
   "source": [
    "car5.__dict__"
   ]
  },
  {
   "cell_type": "code",
   "execution_count": 116,
   "id": "009bf37d",
   "metadata": {},
   "outputs": [
    {
     "name": "stdout",
     "output_type": "stream",
     "text": [
      "<__main__.Car object at 0x7fcb144251c0>\n"
     ]
    }
   ],
   "source": [
    "print(car5.__str__())"
   ]
  },
  {
   "cell_type": "code",
   "execution_count": 112,
   "id": "8a82830d",
   "metadata": {},
   "outputs": [
    {
     "data": {
      "text/plain": [
       "['__class__',\n",
       " '__delattr__',\n",
       " '__dict__',\n",
       " '__dir__',\n",
       " '__doc__',\n",
       " '__eq__',\n",
       " '__format__',\n",
       " '__ge__',\n",
       " '__getattribute__',\n",
       " '__gt__',\n",
       " '__hash__',\n",
       " '__init__',\n",
       " '__init_subclass__',\n",
       " '__le__',\n",
       " '__lt__',\n",
       " '__module__',\n",
       " '__ne__',\n",
       " '__new__',\n",
       " '__reduce__',\n",
       " '__reduce_ex__',\n",
       " '__repr__',\n",
       " '__setattr__',\n",
       " '__sizeof__',\n",
       " '__str__',\n",
       " '__subclasshook__',\n",
       " '__weakref__',\n",
       " 'doors',\n",
       " 'drive',\n",
       " 'enginetype',\n",
       " 'windows']"
      ]
     },
     "execution_count": 112,
     "metadata": {},
     "output_type": "execute_result"
    }
   ],
   "source": [
    "dir(car5)"
   ]
  },
  {
   "cell_type": "code",
   "execution_count": null,
   "id": "b46a1964",
   "metadata": {},
   "outputs": [],
   "source": []
  }
 ],
 "metadata": {
  "kernelspec": {
   "display_name": "Python 3",
   "language": "python",
   "name": "python3"
  },
  "language_info": {
   "codemirror_mode": {
    "name": "ipython",
    "version": 3
   },
   "file_extension": ".py",
   "mimetype": "text/x-python",
   "name": "python",
   "nbconvert_exporter": "python",
   "pygments_lexer": "ipython3",
   "version": "3.8.8"
  }
 },
 "nbformat": 4,
 "nbformat_minor": 5
}
