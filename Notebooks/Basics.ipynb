{
 "cells": [
  {
   "cell_type": "markdown",
   "id": "59bbf1fc",
   "metadata": {},
   "source": [
    "## Basics"
   ]
  },
  {
   "cell_type": "code",
   "execution_count": 1,
   "id": "94f01e93",
   "metadata": {},
   "outputs": [
    {
     "data": {
      "text/plain": [
       "30"
      ]
     },
     "execution_count": 1,
     "metadata": {},
     "output_type": "execute_result"
    }
   ],
   "source": [
    "10 + 20"
   ]
  },
  {
   "cell_type": "code",
   "execution_count": 2,
   "id": "78189b48",
   "metadata": {},
   "outputs": [
    {
     "data": {
      "text/plain": [
       "int"
      ]
     },
     "execution_count": 2,
     "metadata": {},
     "output_type": "execute_result"
    }
   ],
   "source": [
    "type(10)"
   ]
  },
  {
   "cell_type": "code",
   "execution_count": 3,
   "id": "f68905b3",
   "metadata": {},
   "outputs": [
    {
     "data": {
      "text/plain": [
       "float"
      ]
     },
     "execution_count": 3,
     "metadata": {},
     "output_type": "execute_result"
    }
   ],
   "source": [
    "type(10.0)"
   ]
  },
  {
   "cell_type": "code",
   "execution_count": 4,
   "id": "65dd227c",
   "metadata": {},
   "outputs": [
    {
     "data": {
      "text/plain": [
       "str"
      ]
     },
     "execution_count": 4,
     "metadata": {},
     "output_type": "execute_result"
    }
   ],
   "source": [
    "type('hello')"
   ]
  },
  {
   "cell_type": "code",
   "execution_count": 5,
   "id": "9f6f2a6f",
   "metadata": {},
   "outputs": [
    {
     "data": {
      "text/plain": [
       "complex"
      ]
     },
     "execution_count": 5,
     "metadata": {},
     "output_type": "execute_result"
    }
   ],
   "source": [
    "type(3+6j)"
   ]
  },
  {
   "cell_type": "code",
   "execution_count": 6,
   "id": "1e79ed08",
   "metadata": {},
   "outputs": [
    {
     "name": "stdout",
     "output_type": "stream",
     "text": [
      "<class 'int'>\n"
     ]
    }
   ],
   "source": [
    "num = 10\n",
    "print(type(num))"
   ]
  },
  {
   "cell_type": "code",
   "execution_count": 8,
   "id": "5ab42807",
   "metadata": {},
   "outputs": [
    {
     "name": "stdout",
     "output_type": "stream",
     "text": [
      "<class 'float'>\n"
     ]
    }
   ],
   "source": [
    "num2 = float(num)\n",
    "print(type(num2))"
   ]
  },
  {
   "cell_type": "code",
   "execution_count": 9,
   "id": "0c34e082",
   "metadata": {},
   "outputs": [
    {
     "data": {
      "text/plain": [
       "['P', 'e', 't', 'e', 'r']"
      ]
     },
     "execution_count": 9,
     "metadata": {},
     "output_type": "execute_result"
    }
   ],
   "source": [
    "name = 'Peter'\n",
    "lst = list(name)\n",
    "lst"
   ]
  },
  {
   "cell_type": "code",
   "execution_count": 10,
   "id": "d6bbcb4c",
   "metadata": {},
   "outputs": [
    {
     "data": {
      "text/plain": [
       "bool"
      ]
     },
     "execution_count": 10,
     "metadata": {},
     "output_type": "execute_result"
    }
   ],
   "source": [
    "type(True)"
   ]
  },
  {
   "cell_type": "code",
   "execution_count": 11,
   "id": "22c28196",
   "metadata": {},
   "outputs": [
    {
     "data": {
      "text/plain": [
       "2.5"
      ]
     },
     "execution_count": 11,
     "metadata": {},
     "output_type": "execute_result"
    }
   ],
   "source": [
    "5 / 2"
   ]
  },
  {
   "cell_type": "code",
   "execution_count": 12,
   "id": "4dbc4257",
   "metadata": {},
   "outputs": [
    {
     "data": {
      "text/plain": [
       "2"
      ]
     },
     "execution_count": 12,
     "metadata": {},
     "output_type": "execute_result"
    }
   ],
   "source": [
    "5 // 2"
   ]
  },
  {
   "cell_type": "code",
   "execution_count": 13,
   "id": "4aab0b58",
   "metadata": {},
   "outputs": [
    {
     "data": {
      "text/plain": [
       "1"
      ]
     },
     "execution_count": 13,
     "metadata": {},
     "output_type": "execute_result"
    }
   ],
   "source": [
    "5 % 2"
   ]
  },
  {
   "cell_type": "code",
   "execution_count": 14,
   "id": "d503b2d4",
   "metadata": {},
   "outputs": [
    {
     "data": {
      "text/plain": [
       "False"
      ]
     },
     "execution_count": 14,
     "metadata": {},
     "output_type": "execute_result"
    }
   ],
   "source": [
    "not True"
   ]
  },
  {
   "cell_type": "code",
   "execution_count": 15,
   "id": "bf20500a",
   "metadata": {},
   "outputs": [
    {
     "data": {
      "text/plain": [
       "True"
      ]
     },
     "execution_count": 15,
     "metadata": {},
     "output_type": "execute_result"
    }
   ],
   "source": [
    "True"
   ]
  },
  {
   "cell_type": "code",
   "execution_count": 16,
   "id": "39c614d3",
   "metadata": {},
   "outputs": [
    {
     "data": {
      "text/plain": [
       "True"
      ]
     },
     "execution_count": 16,
     "metadata": {},
     "output_type": "execute_result"
    }
   ],
   "source": [
    "not False"
   ]
  },
  {
   "cell_type": "code",
   "execution_count": 17,
   "id": "19d40ca7",
   "metadata": {},
   "outputs": [
    {
     "data": {
      "text/plain": [
       "2"
      ]
     },
     "execution_count": 17,
     "metadata": {},
     "output_type": "execute_result"
    }
   ],
   "source": [
    "True + True"
   ]
  },
  {
   "cell_type": "code",
   "execution_count": 19,
   "id": "b989109f",
   "metadata": {},
   "outputs": [
    {
     "data": {
      "text/plain": [
       "1"
      ]
     },
     "execution_count": 19,
     "metadata": {},
     "output_type": "execute_result"
    }
   ],
   "source": [
    "True + False"
   ]
  },
  {
   "cell_type": "code",
   "execution_count": 20,
   "id": "bc3f91ed",
   "metadata": {},
   "outputs": [
    {
     "data": {
      "text/plain": [
       "0"
      ]
     },
     "execution_count": 20,
     "metadata": {},
     "output_type": "execute_result"
    }
   ],
   "source": [
    "False + False"
   ]
  },
  {
   "cell_type": "code",
   "execution_count": 21,
   "id": "d599ff50",
   "metadata": {},
   "outputs": [
    {
     "name": "stdout",
     "output_type": "stream",
     "text": [
      "Area = 100.0\n"
     ]
    }
   ],
   "source": [
    "base = 20\n",
    "height = 10\n",
    "area = 0.5*base*height\n",
    "print(f'Area = {area}')"
   ]
  },
  {
   "cell_type": "code",
   "execution_count": 41,
   "id": "4dd5021f",
   "metadata": {},
   "outputs": [
    {
     "name": "stdout",
     "output_type": "stream",
     "text": [
      "0\n",
      "1\n",
      "2\n",
      "3\n",
      "4\n",
      "5\n"
     ]
    }
   ],
   "source": [
    "for i in range(6):\n",
    "    print(i)"
   ]
  },
  {
   "cell_type": "code",
   "execution_count": 42,
   "id": "abede319",
   "metadata": {},
   "outputs": [
    {
     "data": {
      "text/plain": [
       "range(0, 7)"
      ]
     },
     "execution_count": 42,
     "metadata": {},
     "output_type": "execute_result"
    }
   ],
   "source": [
    "range(7)"
   ]
  },
  {
   "cell_type": "code",
   "execution_count": 53,
   "id": "5f9a8370",
   "metadata": {},
   "outputs": [
    {
     "name": "stdout",
     "output_type": "stream",
     "text": [
      "1 1 1 1\n",
      "2 2 4 8\n",
      "3 3 9 27\n",
      "4 4 16 64\n",
      "5 5 25 125\n"
     ]
    }
   ],
   "source": [
    "for i in range(1, 6):\n",
    "    print(i, i, i**2, i**3)"
   ]
  },
  {
   "cell_type": "code",
   "execution_count": 55,
   "id": "3d9f98fb",
   "metadata": {},
   "outputs": [
    {
     "data": {
      "text/plain": [
       "[1, 2, 3, 4, 5]"
      ]
     },
     "execution_count": 55,
     "metadata": {},
     "output_type": "execute_result"
    }
   ],
   "source": [
    "list(range(1, 6))"
   ]
  },
  {
   "cell_type": "code",
   "execution_count": 56,
   "id": "ba7dc2c0",
   "metadata": {},
   "outputs": [
    {
     "ename": "TypeError",
     "evalue": "'type' object is not subscriptable",
     "output_type": "error",
     "traceback": [
      "\u001b[0;31m---------------------------------------------------------------------------\u001b[0m",
      "\u001b[0;31mTypeError\u001b[0m                                 Traceback (most recent call last)",
      "\u001b[0;32m<ipython-input-56-d54d7181ffc7>\u001b[0m in \u001b[0;36m<module>\u001b[0;34m\u001b[0m\n\u001b[1;32m      1\u001b[0m \u001b[0;32mfor\u001b[0m \u001b[0mi\u001b[0m \u001b[0;32min\u001b[0m \u001b[0mlist\u001b[0m\u001b[0;34m(\u001b[0m\u001b[0mrange\u001b[0m\u001b[0;34m(\u001b[0m\u001b[0;36m1\u001b[0m\u001b[0;34m,\u001b[0m \u001b[0;36m6\u001b[0m\u001b[0;34m)\u001b[0m\u001b[0;34m)\u001b[0m\u001b[0;34m:\u001b[0m\u001b[0;34m\u001b[0m\u001b[0;34m\u001b[0m\u001b[0m\n\u001b[0;32m----> 2\u001b[0;31m     \u001b[0mprint\u001b[0m\u001b[0;34m(\u001b[0m\u001b[0mlist\u001b[0m\u001b[0;34m[\u001b[0m\u001b[0;36m0\u001b[0m\u001b[0;34m]\u001b[0m\u001b[0;34m)\u001b[0m\u001b[0;34m\u001b[0m\u001b[0;34m\u001b[0m\u001b[0m\n\u001b[0m",
      "\u001b[0;31mTypeError\u001b[0m: 'type' object is not subscriptable"
     ]
    }
   ],
   "source": [
    "for i in list(range(1, 6)):\n",
    "    print(list[0])"
   ]
  },
  {
   "cell_type": "code",
   "execution_count": 63,
   "id": "c2774268",
   "metadata": {},
   "outputs": [
    {
     "name": "stdout",
     "output_type": "stream",
     "text": [
      "1 1 1 1 1\n",
      "2 1 2 4 8\n",
      "3 1 3 9 27\n",
      "4 1 4 16 64\n",
      "5 1 5 25 125\n"
     ]
    }
   ],
   "source": [
    "lst = list(range(1, 6))\n",
    "for i in lst:\n",
    "    print(i, lst[0], i, i**2, i**3)"
   ]
  },
  {
   "cell_type": "code",
   "execution_count": 59,
   "id": "9bfa1171",
   "metadata": {},
   "outputs": [
    {
     "data": {
      "text/plain": [
       "1"
      ]
     },
     "execution_count": 59,
     "metadata": {},
     "output_type": "execute_result"
    }
   ],
   "source": [
    "lst[0]"
   ]
  },
  {
   "cell_type": "markdown",
   "id": "861dcf1c",
   "metadata": {},
   "source": [
    "# String"
   ]
  },
  {
   "cell_type": "code",
   "execution_count": 64,
   "id": "6d885709",
   "metadata": {},
   "outputs": [],
   "source": [
    "string = 'Hello Python'"
   ]
  },
  {
   "cell_type": "code",
   "execution_count": 65,
   "id": "bbfba8a8",
   "metadata": {},
   "outputs": [
    {
     "name": "stdout",
     "output_type": "stream",
     "text": [
      "Hello Python\n"
     ]
    }
   ],
   "source": [
    "print(string)"
   ]
  },
  {
   "cell_type": "code",
   "execution_count": 66,
   "id": "9a742985",
   "metadata": {},
   "outputs": [
    {
     "data": {
      "text/plain": [
       "12"
      ]
     },
     "execution_count": 66,
     "metadata": {},
     "output_type": "execute_result"
    }
   ],
   "source": [
    "len(string)"
   ]
  },
  {
   "cell_type": "code",
   "execution_count": 67,
   "id": "f9f4b487",
   "metadata": {},
   "outputs": [],
   "source": [
    "multi_string = '''\n",
    "This is python programming.\n",
    "Hello Python\n",
    "'''"
   ]
  },
  {
   "cell_type": "code",
   "execution_count": 68,
   "id": "0d51c84c",
   "metadata": {},
   "outputs": [
    {
     "name": "stdout",
     "output_type": "stream",
     "text": [
      "\n",
      "This is python programming.\n",
      "Hello Python\n",
      "\n"
     ]
    }
   ],
   "source": [
    "print(multi_string)"
   ]
  },
  {
   "cell_type": "code",
   "execution_count": 69,
   "id": "20be0db1",
   "metadata": {},
   "outputs": [],
   "source": [
    "first_name = 'Peter'\n",
    "last_name = 'Parker'\n",
    "space = ' '"
   ]
  },
  {
   "cell_type": "code",
   "execution_count": 71,
   "id": "a295dde6",
   "metadata": {},
   "outputs": [
    {
     "name": "stdout",
     "output_type": "stream",
     "text": [
      "Peter Parker\n"
     ]
    }
   ],
   "source": [
    "print(first_name + space + last_name)"
   ]
  },
  {
   "cell_type": "code",
   "execution_count": 72,
   "id": "5b97ccbc",
   "metadata": {},
   "outputs": [
    {
     "data": {
      "text/plain": [
       "5"
      ]
     },
     "execution_count": 72,
     "metadata": {},
     "output_type": "execute_result"
    }
   ],
   "source": [
    "len(first_name)"
   ]
  },
  {
   "cell_type": "code",
   "execution_count": 78,
   "id": "fb644b55",
   "metadata": {},
   "outputs": [
    {
     "data": {
      "text/plain": [
       "'First Name: Peter'"
      ]
     },
     "execution_count": 78,
     "metadata": {},
     "output_type": "execute_result"
    }
   ],
   "source": [
    "'First Name: %s' %(first_name)"
   ]
  },
  {
   "cell_type": "code",
   "execution_count": 76,
   "id": "586276f6",
   "metadata": {},
   "outputs": [
    {
     "name": "stdout",
     "output_type": "stream",
     "text": [
      "I am Peter\n"
     ]
    }
   ],
   "source": [
    "formated_string = 'I am %s' %(first_name)\n",
    "print(formated_string)"
   ]
  },
  {
   "cell_type": "code",
   "execution_count": 79,
   "id": "24d42dbf",
   "metadata": {},
   "outputs": [],
   "source": [
    "formated_string = 'First Name: {}, Last Name: {}'.format(first_name, last_name)"
   ]
  },
  {
   "cell_type": "code",
   "execution_count": 80,
   "id": "2a7ef515",
   "metadata": {},
   "outputs": [
    {
     "data": {
      "text/plain": [
       "'First Name: Peter, Last Name: Parker'"
      ]
     },
     "execution_count": 80,
     "metadata": {},
     "output_type": "execute_result"
    }
   ],
   "source": [
    "formated_string"
   ]
  },
  {
   "cell_type": "code",
   "execution_count": 82,
   "id": "26543d90",
   "metadata": {},
   "outputs": [],
   "source": [
    "a = 20\n",
    "b = 10"
   ]
  },
  {
   "cell_type": "code",
   "execution_count": 83,
   "id": "d62b6913",
   "metadata": {},
   "outputs": [
    {
     "name": "stdout",
     "output_type": "stream",
     "text": [
      "20 + 10 = 30\n"
     ]
    }
   ],
   "source": [
    "print(f'{a} + {b} = {a+b}')"
   ]
  },
  {
   "cell_type": "code",
   "execution_count": 84,
   "id": "85029b10",
   "metadata": {},
   "outputs": [],
   "source": [
    "string = 'Python'"
   ]
  },
  {
   "cell_type": "code",
   "execution_count": 85,
   "id": "72220d79",
   "metadata": {},
   "outputs": [
    {
     "data": {
      "text/plain": [
       "'P'"
      ]
     },
     "execution_count": 85,
     "metadata": {},
     "output_type": "execute_result"
    }
   ],
   "source": [
    "string[0]"
   ]
  },
  {
   "cell_type": "code",
   "execution_count": 87,
   "id": "fb850d74",
   "metadata": {},
   "outputs": [
    {
     "data": {
      "text/plain": [
       "'Pyt'"
      ]
     },
     "execution_count": 87,
     "metadata": {},
     "output_type": "execute_result"
    }
   ],
   "source": [
    "string[0:3]"
   ]
  },
  {
   "cell_type": "code",
   "execution_count": 89,
   "id": "483075d8",
   "metadata": {},
   "outputs": [
    {
     "data": {
      "text/plain": [
       "'nohtyP'"
      ]
     },
     "execution_count": 89,
     "metadata": {},
     "output_type": "execute_result"
    }
   ],
   "source": [
    "string[::-1]"
   ]
  },
  {
   "cell_type": "code",
   "execution_count": 91,
   "id": "19295120",
   "metadata": {},
   "outputs": [
    {
     "data": {
      "text/plain": [
       "1"
      ]
     },
     "execution_count": 91,
     "metadata": {},
     "output_type": "execute_result"
    }
   ],
   "source": [
    "string.count('y')"
   ]
  },
  {
   "cell_type": "code",
   "execution_count": 92,
   "id": "1c20b7c0",
   "metadata": {},
   "outputs": [],
   "source": [
    "multi_string = '''\n",
    "Python is a high-level, general-purpose programming language. \n",
    "Its design philosophy emphasizes code readability with the use of significant indentation. \n",
    "Python is dynamically-typed and garbage-collected. \n",
    "It supports multiple programming paradigms, including structured, object-oriented and functional programming.\n",
    "'''"
   ]
  },
  {
   "cell_type": "code",
   "execution_count": 93,
   "id": "ddbd5a1f",
   "metadata": {},
   "outputs": [
    {
     "data": {
      "text/plain": [
       "'\\nPython is a high-level, general-purpose programming language. \\nIts design philosophy emphasizes code readability with the use of significant indentation. \\nPython is dynamically-typed and garbage-collected. \\nIt supports multiple programming paradigms, including structured, object-oriented and functional programming.\\n'"
      ]
     },
     "execution_count": 93,
     "metadata": {},
     "output_type": "execute_result"
    }
   ],
   "source": [
    "multi_string"
   ]
  },
  {
   "cell_type": "code",
   "execution_count": 94,
   "id": "028ad5c0",
   "metadata": {},
   "outputs": [
    {
     "name": "stdout",
     "output_type": "stream",
     "text": [
      "\n",
      "Python is a high-level, general-purpose programming language. \n",
      "Its design philosophy emphasizes code readability with the use of significant indentation. \n",
      "Python is dynamically-typed and garbage-collected. \n",
      "It supports multiple programming paradigms, including structured, object-oriented and functional programming.\n",
      "\n"
     ]
    }
   ],
   "source": [
    "print(multi_string)"
   ]
  },
  {
   "cell_type": "code",
   "execution_count": 97,
   "id": "7f75e32f",
   "metadata": {},
   "outputs": [
    {
     "data": {
      "text/plain": [
       "2"
      ]
     },
     "execution_count": 97,
     "metadata": {},
     "output_type": "execute_result"
    }
   ],
   "source": [
    "multi_string.count('Python')"
   ]
  },
  {
   "cell_type": "code",
   "execution_count": 99,
   "id": "ded1b642",
   "metadata": {},
   "outputs": [
    {
     "data": {
      "text/plain": [
       "1"
      ]
     },
     "execution_count": 99,
     "metadata": {},
     "output_type": "execute_result"
    }
   ],
   "source": [
    "multi_string.count('Python', 10, len(multi_string))"
   ]
  },
  {
   "cell_type": "code",
   "execution_count": 100,
   "id": "56ff047c",
   "metadata": {},
   "outputs": [
    {
     "data": {
      "text/plain": [
       "318"
      ]
     },
     "execution_count": 100,
     "metadata": {},
     "output_type": "execute_result"
    }
   ],
   "source": [
    "len(multi_string)"
   ]
  },
  {
   "cell_type": "code",
   "execution_count": 101,
   "id": "999119e6",
   "metadata": {},
   "outputs": [
    {
     "data": {
      "text/plain": [
       "False"
      ]
     },
     "execution_count": 101,
     "metadata": {},
     "output_type": "execute_result"
    }
   ],
   "source": [
    "multi_string.endswith('on')"
   ]
  },
  {
   "cell_type": "code",
   "execution_count": 106,
   "id": "d9a33b71",
   "metadata": {},
   "outputs": [
    {
     "data": {
      "text/plain": [
       "True"
      ]
     },
     "execution_count": 106,
     "metadata": {},
     "output_type": "execute_result"
    }
   ],
   "source": [
    "multi_string.endswith('ing.\\n')"
   ]
  },
  {
   "cell_type": "code",
   "execution_count": 107,
   "id": "5f7080f8",
   "metadata": {},
   "outputs": [
    {
     "data": {
      "text/plain": [
       "False"
      ]
     },
     "execution_count": 107,
     "metadata": {},
     "output_type": "execute_result"
    }
   ],
   "source": [
    "multi_string.endswith('ing.')"
   ]
  },
  {
   "cell_type": "code",
   "execution_count": 108,
   "id": "089a02f2",
   "metadata": {},
   "outputs": [],
   "source": [
    "string = 'Hello world'"
   ]
  },
  {
   "cell_type": "code",
   "execution_count": 109,
   "id": "a64fa1fc",
   "metadata": {},
   "outputs": [
    {
     "data": {
      "text/plain": [
       "True"
      ]
     },
     "execution_count": 109,
     "metadata": {},
     "output_type": "execute_result"
    }
   ],
   "source": [
    "string.endswith('ld')"
   ]
  },
  {
   "cell_type": "code",
   "execution_count": 110,
   "id": "32b75532",
   "metadata": {},
   "outputs": [
    {
     "name": "stdout",
     "output_type": "stream",
     "text": [
      "True\n"
     ]
    }
   ],
   "source": [
    "string = 'python programming'\n",
    "\n",
    "print(string.islower())"
   ]
  },
  {
   "cell_type": "code",
   "execution_count": 111,
   "id": "5f0572a0",
   "metadata": {},
   "outputs": [
    {
     "name": "stdout",
     "output_type": "stream",
     "text": [
      "False\n"
     ]
    }
   ],
   "source": [
    "string = 'Python Programming'\n",
    "\n",
    "print(string.islower())"
   ]
  },
  {
   "cell_type": "code",
   "execution_count": 112,
   "id": "08afedd6",
   "metadata": {},
   "outputs": [
    {
     "name": "stdout",
     "output_type": "stream",
     "text": [
      "False\n"
     ]
    }
   ],
   "source": [
    "string = 'python programming'\n",
    "\n",
    "print(string.isupper())"
   ]
  },
  {
   "cell_type": "code",
   "execution_count": 116,
   "id": "e3cca54c",
   "metadata": {},
   "outputs": [
    {
     "name": "stdout",
     "output_type": "stream",
     "text": [
      "False\n"
     ]
    }
   ],
   "source": [
    "string = 'Python Programming'\n",
    "\n",
    "print(string.isupper())"
   ]
  },
  {
   "cell_type": "code",
   "execution_count": 117,
   "id": "4dd3836a",
   "metadata": {},
   "outputs": [
    {
     "name": "stdout",
     "output_type": "stream",
     "text": [
      "True\n"
     ]
    }
   ],
   "source": [
    "string = 'PYTHON PROGRAMMING'\n",
    "\n",
    "print(string.isupper())"
   ]
  },
  {
   "cell_type": "code",
   "execution_count": 119,
   "id": "be334920",
   "metadata": {},
   "outputs": [
    {
     "data": {
      "text/plain": [
       "True"
      ]
     },
     "execution_count": 119,
     "metadata": {},
     "output_type": "execute_result"
    }
   ],
   "source": [
    "string.isprintable()"
   ]
  },
  {
   "cell_type": "code",
   "execution_count": 122,
   "id": "53e876f6",
   "metadata": {},
   "outputs": [
    {
     "name": "stdout",
     "output_type": "stream",
     "text": [
      "True\n"
     ]
    }
   ],
   "source": [
    "string = ' '\n",
    "\n",
    "print(string.isprintable())"
   ]
  },
  {
   "cell_type": "code",
   "execution_count": 123,
   "id": "c66e428e",
   "metadata": {},
   "outputs": [],
   "source": [
    "techs = ['Python', 'NodeJS', 'HTML', 'CSS', 'JavaScript', 'React']"
   ]
  },
  {
   "cell_type": "code",
   "execution_count": 126,
   "id": "c19d39ec",
   "metadata": {},
   "outputs": [
    {
     "data": {
      "text/plain": [
       "'Python NodeJS HTML CSS JavaScript React'"
      ]
     },
     "execution_count": 126,
     "metadata": {},
     "output_type": "execute_result"
    }
   ],
   "source": [
    "' '.join(techs)"
   ]
  },
  {
   "cell_type": "code",
   "execution_count": 128,
   "id": "fe92a86c",
   "metadata": {},
   "outputs": [
    {
     "data": {
      "text/plain": [
       "'Python @NodeJS @HTML @CSS @JavaScript @React'"
      ]
     },
     "execution_count": 128,
     "metadata": {},
     "output_type": "execute_result"
    }
   ],
   "source": [
    "' @'.join(techs)"
   ]
  },
  {
   "cell_type": "code",
   "execution_count": 130,
   "id": "fa17bbcf",
   "metadata": {},
   "outputs": [
    {
     "data": {
      "text/plain": [
       "'Python Programming'"
      ]
     },
     "execution_count": 130,
     "metadata": {},
     "output_type": "execute_result"
    }
   ],
   "source": [
    "string = 'PYTHON PROGRAMMING'\n",
    "string.title()"
   ]
  },
  {
   "cell_type": "code",
   "execution_count": 131,
   "id": "068ffff8",
   "metadata": {},
   "outputs": [
    {
     "data": {
      "text/plain": [
       "'python programming'"
      ]
     },
     "execution_count": 131,
     "metadata": {},
     "output_type": "execute_result"
    }
   ],
   "source": [
    "string = 'PYTHON PROGRAMMING'\n",
    "string.swapcase()"
   ]
  },
  {
   "cell_type": "code",
   "execution_count": 132,
   "id": "8e225927",
   "metadata": {},
   "outputs": [
    {
     "data": {
      "text/plain": [
       "'pYTHON pROGRAMMING'"
      ]
     },
     "execution_count": 132,
     "metadata": {},
     "output_type": "execute_result"
    }
   ],
   "source": [
    "string = 'Python Programming'\n",
    "string.swapcase()"
   ]
  },
  {
   "cell_type": "markdown",
   "id": "fe77b084",
   "metadata": {},
   "source": [
    "## List"
   ]
  },
  {
   "cell_type": "code",
   "execution_count": 133,
   "id": "58e5d9db",
   "metadata": {},
   "outputs": [],
   "source": [
    "techs = ['HTML', 'CSS', 'JS', 'React','Redux', 'Node', 'MongDB']"
   ]
  },
  {
   "cell_type": "code",
   "execution_count": 134,
   "id": "fbe5b374",
   "metadata": {},
   "outputs": [
    {
     "data": {
      "text/plain": [
       "list"
      ]
     },
     "execution_count": 134,
     "metadata": {},
     "output_type": "execute_result"
    }
   ],
   "source": [
    "type(techs)"
   ]
  },
  {
   "cell_type": "code",
   "execution_count": 135,
   "id": "3f7307a6",
   "metadata": {},
   "outputs": [
    {
     "data": {
      "text/plain": [
       "['HTML', 'CSS', 'JS', 'React', 'Redux', 'Node', 'MongDB']"
      ]
     },
     "execution_count": 135,
     "metadata": {},
     "output_type": "execute_result"
    }
   ],
   "source": [
    "techs"
   ]
  },
  {
   "cell_type": "code",
   "execution_count": 136,
   "id": "7e4e1dcf",
   "metadata": {},
   "outputs": [
    {
     "data": {
      "text/plain": [
       "7"
      ]
     },
     "execution_count": 136,
     "metadata": {},
     "output_type": "execute_result"
    }
   ],
   "source": [
    "len(techs)"
   ]
  },
  {
   "cell_type": "code",
   "execution_count": 137,
   "id": "a82b02ab",
   "metadata": {},
   "outputs": [],
   "source": [
    "lst = ['Python', True, 400, 79.0, {'name': 'Python'}]"
   ]
  },
  {
   "cell_type": "code",
   "execution_count": 138,
   "id": "0845dfd9",
   "metadata": {},
   "outputs": [
    {
     "data": {
      "text/plain": [
       "['Python', True, 400, 79.0, {'name': 'Python'}]"
      ]
     },
     "execution_count": 138,
     "metadata": {},
     "output_type": "execute_result"
    }
   ],
   "source": [
    "lst"
   ]
  },
  {
   "cell_type": "code",
   "execution_count": 139,
   "id": "1dd1e7d2",
   "metadata": {},
   "outputs": [
    {
     "data": {
      "text/plain": [
       "{'name': 'Python'}"
      ]
     },
     "execution_count": 139,
     "metadata": {},
     "output_type": "execute_result"
    }
   ],
   "source": [
    "lst[4]"
   ]
  },
  {
   "cell_type": "code",
   "execution_count": 141,
   "id": "bb79b0bc",
   "metadata": {},
   "outputs": [
    {
     "data": {
      "text/plain": [
       "'Python'"
      ]
     },
     "execution_count": 141,
     "metadata": {},
     "output_type": "execute_result"
    }
   ],
   "source": [
    "lst[4]['name']"
   ]
  },
  {
   "cell_type": "code",
   "execution_count": 142,
   "id": "2e2ebec4",
   "metadata": {},
   "outputs": [
    {
     "data": {
      "text/plain": [
       "['HTML', 'CSS', 'JS', 'React', 'Redux', 'Node', 'MongDB']"
      ]
     },
     "execution_count": 142,
     "metadata": {},
     "output_type": "execute_result"
    }
   ],
   "source": [
    "techs"
   ]
  },
  {
   "cell_type": "code",
   "execution_count": 143,
   "id": "3eb3d247",
   "metadata": {},
   "outputs": [],
   "source": [
    "html, css, js, *rest = techs"
   ]
  },
  {
   "cell_type": "code",
   "execution_count": 144,
   "id": "879a2c85",
   "metadata": {},
   "outputs": [
    {
     "data": {
      "text/plain": [
       "'HTML'"
      ]
     },
     "execution_count": 144,
     "metadata": {},
     "output_type": "execute_result"
    }
   ],
   "source": [
    "html"
   ]
  },
  {
   "cell_type": "code",
   "execution_count": 145,
   "id": "3c924e74",
   "metadata": {},
   "outputs": [
    {
     "data": {
      "text/plain": [
       "'CSS'"
      ]
     },
     "execution_count": 145,
     "metadata": {},
     "output_type": "execute_result"
    }
   ],
   "source": [
    "css"
   ]
  },
  {
   "cell_type": "code",
   "execution_count": 146,
   "id": "28ae1ecc",
   "metadata": {},
   "outputs": [
    {
     "data": {
      "text/plain": [
       "'JS'"
      ]
     },
     "execution_count": 146,
     "metadata": {},
     "output_type": "execute_result"
    }
   ],
   "source": [
    "js"
   ]
  },
  {
   "cell_type": "code",
   "execution_count": 147,
   "id": "52872f46",
   "metadata": {},
   "outputs": [
    {
     "data": {
      "text/plain": [
       "['React', 'Redux', 'Node', 'MongDB']"
      ]
     },
     "execution_count": 147,
     "metadata": {},
     "output_type": "execute_result"
    }
   ],
   "source": [
    "rest"
   ]
  },
  {
   "cell_type": "code",
   "execution_count": 150,
   "id": "dc7c7e8c",
   "metadata": {},
   "outputs": [
    {
     "data": {
      "text/plain": [
       "['React', 'Redux']"
      ]
     },
     "execution_count": 150,
     "metadata": {},
     "output_type": "execute_result"
    }
   ],
   "source": [
    "techs[3:5]"
   ]
  },
  {
   "cell_type": "code",
   "execution_count": 151,
   "id": "354c8483",
   "metadata": {},
   "outputs": [
    {
     "data": {
      "text/plain": [
       "['MongDB', 'Node', 'Redux', 'React', 'JS', 'CSS', 'HTML']"
      ]
     },
     "execution_count": 151,
     "metadata": {},
     "output_type": "execute_result"
    }
   ],
   "source": [
    "techs[::-1]"
   ]
  },
  {
   "cell_type": "code",
   "execution_count": 152,
   "id": "6ab3f759",
   "metadata": {},
   "outputs": [
    {
     "data": {
      "text/plain": [
       "['HTML', 'CSS', 'JS', 'React', 'Redux', 'Node']"
      ]
     },
     "execution_count": 152,
     "metadata": {},
     "output_type": "execute_result"
    }
   ],
   "source": [
    "techs[:-1]"
   ]
  },
  {
   "cell_type": "code",
   "execution_count": 153,
   "id": "618f1853",
   "metadata": {},
   "outputs": [
    {
     "data": {
      "text/plain": [
       "'MongDB'"
      ]
     },
     "execution_count": 153,
     "metadata": {},
     "output_type": "execute_result"
    }
   ],
   "source": [
    "techs[-1]"
   ]
  },
  {
   "cell_type": "code",
   "execution_count": 154,
   "id": "7cbf60bc",
   "metadata": {},
   "outputs": [
    {
     "data": {
      "text/plain": [
       "['HTML', 'JS', 'Redux', 'MongDB']"
      ]
     },
     "execution_count": 154,
     "metadata": {},
     "output_type": "execute_result"
    }
   ],
   "source": [
    "techs[::2]"
   ]
  },
  {
   "cell_type": "code",
   "execution_count": 155,
   "id": "a33f0d1c",
   "metadata": {},
   "outputs": [],
   "source": [
    "techs.append('Python')"
   ]
  },
  {
   "cell_type": "code",
   "execution_count": 156,
   "id": "e4d5cad1",
   "metadata": {},
   "outputs": [
    {
     "data": {
      "text/plain": [
       "['HTML', 'CSS', 'JS', 'React', 'Redux', 'Node', 'MongDB', 'Python']"
      ]
     },
     "execution_count": 156,
     "metadata": {},
     "output_type": "execute_result"
    }
   ],
   "source": [
    "techs"
   ]
  },
  {
   "cell_type": "code",
   "execution_count": 157,
   "id": "7437d664",
   "metadata": {},
   "outputs": [],
   "source": [
    "techs[2] = 'Swift'"
   ]
  },
  {
   "cell_type": "code",
   "execution_count": 158,
   "id": "d1f1d129",
   "metadata": {},
   "outputs": [
    {
     "data": {
      "text/plain": [
       "['HTML', 'CSS', 'Swift', 'React', 'Redux', 'Node', 'MongDB', 'Python']"
      ]
     },
     "execution_count": 158,
     "metadata": {},
     "output_type": "execute_result"
    }
   ],
   "source": [
    "techs"
   ]
  },
  {
   "cell_type": "code",
   "execution_count": 159,
   "id": "72faa69c",
   "metadata": {},
   "outputs": [],
   "source": [
    "techs.insert(2, 'Item')"
   ]
  },
  {
   "cell_type": "code",
   "execution_count": 160,
   "id": "bdb63c6b",
   "metadata": {},
   "outputs": [
    {
     "data": {
      "text/plain": [
       "['HTML', 'CSS', 'Item', 'Swift', 'React', 'Redux', 'Node', 'MongDB', 'Python']"
      ]
     },
     "execution_count": 160,
     "metadata": {},
     "output_type": "execute_result"
    }
   ],
   "source": [
    "techs"
   ]
  },
  {
   "cell_type": "code",
   "execution_count": 161,
   "id": "ce0c56ba",
   "metadata": {},
   "outputs": [],
   "source": [
    "techs.remove('Item')"
   ]
  },
  {
   "cell_type": "code",
   "execution_count": 162,
   "id": "23371ffc",
   "metadata": {},
   "outputs": [
    {
     "data": {
      "text/plain": [
       "['HTML', 'CSS', 'Swift', 'React', 'Redux', 'Node', 'MongDB', 'Python']"
      ]
     },
     "execution_count": 162,
     "metadata": {},
     "output_type": "execute_result"
    }
   ],
   "source": [
    "techs"
   ]
  },
  {
   "cell_type": "code",
   "execution_count": 163,
   "id": "62665d84",
   "metadata": {},
   "outputs": [],
   "source": [
    "lst = ['Item1', 'Item2']"
   ]
  },
  {
   "cell_type": "code",
   "execution_count": 164,
   "id": "1cb62636",
   "metadata": {},
   "outputs": [
    {
     "data": {
      "text/plain": [
       "['Item1', 'Item2']"
      ]
     },
     "execution_count": 164,
     "metadata": {},
     "output_type": "execute_result"
    }
   ],
   "source": [
    "lst"
   ]
  },
  {
   "cell_type": "code",
   "execution_count": 165,
   "id": "8eb8cbe3",
   "metadata": {},
   "outputs": [],
   "source": [
    "lst.clear()"
   ]
  },
  {
   "cell_type": "code",
   "execution_count": 166,
   "id": "dfaef831",
   "metadata": {},
   "outputs": [
    {
     "data": {
      "text/plain": [
       "[]"
      ]
     },
     "execution_count": 166,
     "metadata": {},
     "output_type": "execute_result"
    }
   ],
   "source": [
    "lst"
   ]
  },
  {
   "cell_type": "code",
   "execution_count": 167,
   "id": "59d2102b",
   "metadata": {},
   "outputs": [],
   "source": [
    "lst = ['Item1', 'Item2']"
   ]
  },
  {
   "cell_type": "code",
   "execution_count": 168,
   "id": "539ef213",
   "metadata": {},
   "outputs": [
    {
     "data": {
      "text/plain": [
       "['Item1', 'Item2']"
      ]
     },
     "execution_count": 168,
     "metadata": {},
     "output_type": "execute_result"
    }
   ],
   "source": [
    "lst"
   ]
  },
  {
   "cell_type": "code",
   "execution_count": 169,
   "id": "5c276f7b",
   "metadata": {},
   "outputs": [],
   "source": [
    "techs.reverse()"
   ]
  },
  {
   "cell_type": "code",
   "execution_count": 170,
   "id": "1ba192fe",
   "metadata": {},
   "outputs": [
    {
     "data": {
      "text/plain": [
       "['Python', 'MongDB', 'Node', 'Redux', 'React', 'Swift', 'CSS', 'HTML']"
      ]
     },
     "execution_count": 170,
     "metadata": {},
     "output_type": "execute_result"
    }
   ],
   "source": [
    "techs"
   ]
  },
  {
   "cell_type": "code",
   "execution_count": 171,
   "id": "a0cc4374",
   "metadata": {},
   "outputs": [],
   "source": [
    "techs.sort()"
   ]
  },
  {
   "cell_type": "code",
   "execution_count": 172,
   "id": "95042230",
   "metadata": {},
   "outputs": [
    {
     "data": {
      "text/plain": [
       "['CSS', 'HTML', 'MongDB', 'Node', 'Python', 'React', 'Redux', 'Swift']"
      ]
     },
     "execution_count": 172,
     "metadata": {},
     "output_type": "execute_result"
    }
   ],
   "source": [
    "techs"
   ]
  },
  {
   "cell_type": "code",
   "execution_count": 173,
   "id": "2801c407",
   "metadata": {},
   "outputs": [],
   "source": [
    "items = techs"
   ]
  },
  {
   "cell_type": "code",
   "execution_count": 174,
   "id": "e5b6135d",
   "metadata": {},
   "outputs": [
    {
     "data": {
      "text/plain": [
       "['CSS', 'HTML', 'MongDB', 'Node', 'Python', 'React', 'Redux', 'Swift']"
      ]
     },
     "execution_count": 174,
     "metadata": {},
     "output_type": "execute_result"
    }
   ],
   "source": [
    "items"
   ]
  },
  {
   "cell_type": "code",
   "execution_count": 175,
   "id": "7e8e4446",
   "metadata": {},
   "outputs": [],
   "source": [
    "items = techs.copy()"
   ]
  },
  {
   "cell_type": "code",
   "execution_count": 176,
   "id": "13cfa9b9",
   "metadata": {},
   "outputs": [
    {
     "data": {
      "text/plain": [
       "['CSS', 'HTML', 'MongDB', 'Node', 'Python', 'React', 'Redux', 'Swift']"
      ]
     },
     "execution_count": 176,
     "metadata": {},
     "output_type": "execute_result"
    }
   ],
   "source": [
    "items"
   ]
  },
  {
   "cell_type": "code",
   "execution_count": 177,
   "id": "ea3f97e7",
   "metadata": {},
   "outputs": [
    {
     "data": {
      "text/plain": [
       "1"
      ]
     },
     "execution_count": 177,
     "metadata": {},
     "output_type": "execute_result"
    }
   ],
   "source": [
    "items.count('HTML')"
   ]
  },
  {
   "cell_type": "code",
   "execution_count": 178,
   "id": "f84742e5",
   "metadata": {},
   "outputs": [],
   "source": [
    "ages = [22, 19, 24, 25, 26, 24, 25, 24]"
   ]
  },
  {
   "cell_type": "code",
   "execution_count": 179,
   "id": "e174de91",
   "metadata": {},
   "outputs": [
    {
     "data": {
      "text/plain": [
       "1"
      ]
     },
     "execution_count": 179,
     "metadata": {},
     "output_type": "execute_result"
    }
   ],
   "source": [
    "ages.count(19)"
   ]
  },
  {
   "cell_type": "code",
   "execution_count": 180,
   "id": "cd5aa408",
   "metadata": {},
   "outputs": [
    {
     "data": {
      "text/plain": [
       "3"
      ]
     },
     "execution_count": 180,
     "metadata": {},
     "output_type": "execute_result"
    }
   ],
   "source": [
    "ages.count(24)"
   ]
  },
  {
   "cell_type": "code",
   "execution_count": 181,
   "id": "548c2346",
   "metadata": {},
   "outputs": [],
   "source": [
    "ages.sort()"
   ]
  },
  {
   "cell_type": "code",
   "execution_count": 182,
   "id": "0376047c",
   "metadata": {},
   "outputs": [
    {
     "data": {
      "text/plain": [
       "[19, 22, 24, 24, 24, 25, 25, 26]"
      ]
     },
     "execution_count": 182,
     "metadata": {},
     "output_type": "execute_result"
    }
   ],
   "source": [
    "ages"
   ]
  },
  {
   "cell_type": "code",
   "execution_count": 183,
   "id": "400fd91e",
   "metadata": {},
   "outputs": [
    {
     "data": {
      "text/plain": [
       "['Item1', 'Item2']"
      ]
     },
     "execution_count": 183,
     "metadata": {},
     "output_type": "execute_result"
    }
   ],
   "source": [
    "lst"
   ]
  },
  {
   "cell_type": "code",
   "execution_count": 184,
   "id": "7cd88831",
   "metadata": {},
   "outputs": [
    {
     "data": {
      "text/plain": [
       "['CSS', 'HTML', 'MongDB', 'Node', 'Python', 'React', 'Redux', 'Swift']"
      ]
     },
     "execution_count": 184,
     "metadata": {},
     "output_type": "execute_result"
    }
   ],
   "source": [
    "items"
   ]
  },
  {
   "cell_type": "code",
   "execution_count": 185,
   "id": "e699b322",
   "metadata": {},
   "outputs": [],
   "source": [
    "result = items + lst"
   ]
  },
  {
   "cell_type": "code",
   "execution_count": 186,
   "id": "44424cd9",
   "metadata": {},
   "outputs": [
    {
     "data": {
      "text/plain": [
       "['CSS',\n",
       " 'HTML',\n",
       " 'MongDB',\n",
       " 'Node',\n",
       " 'Python',\n",
       " 'React',\n",
       " 'Redux',\n",
       " 'Swift',\n",
       " 'Item1',\n",
       " 'Item2']"
      ]
     },
     "execution_count": 186,
     "metadata": {},
     "output_type": "execute_result"
    }
   ],
   "source": [
    "result"
   ]
  },
  {
   "cell_type": "code",
   "execution_count": 187,
   "id": "dee44a1b",
   "metadata": {},
   "outputs": [],
   "source": [
    "ages = [19, 22, 19, 24, 20, 25, 26, 24, 25, 24]"
   ]
  },
  {
   "cell_type": "code",
   "execution_count": 188,
   "id": "043491d2",
   "metadata": {},
   "outputs": [
    {
     "data": {
      "text/plain": [
       "[19, 22, 19, 24, 20, 25, 26, 24, 25, 24]"
      ]
     },
     "execution_count": 188,
     "metadata": {},
     "output_type": "execute_result"
    }
   ],
   "source": [
    "ages"
   ]
  },
  {
   "cell_type": "code",
   "execution_count": 189,
   "id": "9e91123a",
   "metadata": {},
   "outputs": [],
   "source": [
    "ages.sort()"
   ]
  },
  {
   "cell_type": "code",
   "execution_count": 190,
   "id": "d6e0cdd2",
   "metadata": {},
   "outputs": [
    {
     "data": {
      "text/plain": [
       "[19, 19, 20, 22, 24, 24, 24, 25, 25, 26]"
      ]
     },
     "execution_count": 190,
     "metadata": {},
     "output_type": "execute_result"
    }
   ],
   "source": [
    "ages"
   ]
  },
  {
   "cell_type": "code",
   "execution_count": 192,
   "id": "1540888a",
   "metadata": {},
   "outputs": [
    {
     "data": {
      "text/plain": [
       "19"
      ]
     },
     "execution_count": 192,
     "metadata": {},
     "output_type": "execute_result"
    }
   ],
   "source": [
    "min(ages)"
   ]
  },
  {
   "cell_type": "code",
   "execution_count": 193,
   "id": "98446586",
   "metadata": {},
   "outputs": [
    {
     "data": {
      "text/plain": [
       "26"
      ]
     },
     "execution_count": 193,
     "metadata": {},
     "output_type": "execute_result"
    }
   ],
   "source": [
    "max(ages)"
   ]
  },
  {
   "cell_type": "code",
   "execution_count": 194,
   "id": "45c45a4b",
   "metadata": {},
   "outputs": [
    {
     "ename": "NameError",
     "evalue": "name 'mean' is not defined",
     "output_type": "error",
     "traceback": [
      "\u001b[0;31m---------------------------------------------------------------------------\u001b[0m",
      "\u001b[0;31mNameError\u001b[0m                                 Traceback (most recent call last)",
      "\u001b[0;32m<ipython-input-194-e0aadd21f74d>\u001b[0m in \u001b[0;36m<module>\u001b[0;34m\u001b[0m\n\u001b[0;32m----> 1\u001b[0;31m \u001b[0mmean\u001b[0m\u001b[0;34m(\u001b[0m\u001b[0mages\u001b[0m\u001b[0;34m)\u001b[0m\u001b[0;34m\u001b[0m\u001b[0;34m\u001b[0m\u001b[0m\n\u001b[0m",
      "\u001b[0;31mNameError\u001b[0m: name 'mean' is not defined"
     ]
    }
   ],
   "source": [
    "ages."
   ]
  },
  {
   "cell_type": "code",
   "execution_count": 197,
   "id": "72ce3a8f",
   "metadata": {},
   "outputs": [],
   "source": [
    "avg = sum(ages) / len(ages)"
   ]
  },
  {
   "cell_type": "code",
   "execution_count": 198,
   "id": "e277303b",
   "metadata": {},
   "outputs": [
    {
     "data": {
      "text/plain": [
       "22.8"
      ]
     },
     "execution_count": 198,
     "metadata": {},
     "output_type": "execute_result"
    }
   ],
   "source": [
    "avg"
   ]
  },
  {
   "cell_type": "code",
   "execution_count": 199,
   "id": "3a0a1c16",
   "metadata": {},
   "outputs": [
    {
     "data": {
      "text/plain": [
       "[19, 19, 20, 22, 24, 24, 24, 25, 25, 26]"
      ]
     },
     "execution_count": 199,
     "metadata": {},
     "output_type": "execute_result"
    }
   ],
   "source": [
    "ages"
   ]
  },
  {
   "cell_type": "code",
   "execution_count": 202,
   "id": "55f8fe99",
   "metadata": {},
   "outputs": [
    {
     "data": {
      "text/plain": [
       "24"
      ]
     },
     "execution_count": 202,
     "metadata": {},
     "output_type": "execute_result"
    }
   ],
   "source": [
    "ages[int(len(ages)/2)]"
   ]
  },
  {
   "cell_type": "code",
   "execution_count": 205,
   "id": "90429fb4",
   "metadata": {},
   "outputs": [
    {
     "data": {
      "text/plain": [
       "(19, 26)"
      ]
     },
     "execution_count": 205,
     "metadata": {},
     "output_type": "execute_result"
    }
   ],
   "source": [
    "ages[0], ages[int(len(ages)-1)]"
   ]
  },
  {
   "cell_type": "code",
   "execution_count": 206,
   "id": "e9876ec4",
   "metadata": {},
   "outputs": [],
   "source": [
    "countries = ['China', 'Russia', 'USA', 'Finland', 'Sweden', 'Norway', 'Denmark']"
   ]
  },
  {
   "cell_type": "code",
   "execution_count": 207,
   "id": "3fe60b5e",
   "metadata": {},
   "outputs": [],
   "source": [
    "china, russia, usa, *rest = countries"
   ]
  },
  {
   "cell_type": "code",
   "execution_count": 208,
   "id": "55006baa",
   "metadata": {},
   "outputs": [
    {
     "data": {
      "text/plain": [
       "'China'"
      ]
     },
     "execution_count": 208,
     "metadata": {},
     "output_type": "execute_result"
    }
   ],
   "source": [
    "china"
   ]
  },
  {
   "cell_type": "code",
   "execution_count": 209,
   "id": "f8912256",
   "metadata": {},
   "outputs": [
    {
     "data": {
      "text/plain": [
       "'Russia'"
      ]
     },
     "execution_count": 209,
     "metadata": {},
     "output_type": "execute_result"
    }
   ],
   "source": [
    "russia"
   ]
  },
  {
   "cell_type": "code",
   "execution_count": 210,
   "id": "6c3360ca",
   "metadata": {},
   "outputs": [
    {
     "data": {
      "text/plain": [
       "'USA'"
      ]
     },
     "execution_count": 210,
     "metadata": {},
     "output_type": "execute_result"
    }
   ],
   "source": [
    "usa"
   ]
  },
  {
   "cell_type": "code",
   "execution_count": 211,
   "id": "0510956b",
   "metadata": {},
   "outputs": [
    {
     "data": {
      "text/plain": [
       "['Finland', 'Sweden', 'Norway', 'Denmark']"
      ]
     },
     "execution_count": 211,
     "metadata": {},
     "output_type": "execute_result"
    }
   ],
   "source": [
    "rest"
   ]
  },
  {
   "cell_type": "markdown",
   "id": "ada9835d",
   "metadata": {},
   "source": [
    "## Tuple"
   ]
  },
  {
   "cell_type": "code",
   "execution_count": 212,
   "id": "1cdd46d0",
   "metadata": {},
   "outputs": [],
   "source": [
    "fruits = ('banana', 'orange', 'mango', 'lemon')"
   ]
  },
  {
   "cell_type": "code",
   "execution_count": 213,
   "id": "4302b888",
   "metadata": {},
   "outputs": [
    {
     "data": {
      "text/plain": [
       "('banana', 'orange', 'mango', 'lemon')"
      ]
     },
     "execution_count": 213,
     "metadata": {},
     "output_type": "execute_result"
    }
   ],
   "source": [
    "fruits"
   ]
  },
  {
   "cell_type": "code",
   "execution_count": 215,
   "id": "0a46f5ee",
   "metadata": {},
   "outputs": [
    {
     "data": {
      "text/plain": [
       "4"
      ]
     },
     "execution_count": 215,
     "metadata": {},
     "output_type": "execute_result"
    }
   ],
   "source": [
    "len(fruits)"
   ]
  },
  {
   "cell_type": "code",
   "execution_count": 216,
   "id": "f4a7f342",
   "metadata": {},
   "outputs": [
    {
     "data": {
      "text/plain": [
       "'mango'"
      ]
     },
     "execution_count": 216,
     "metadata": {},
     "output_type": "execute_result"
    }
   ],
   "source": [
    "fruits[2]"
   ]
  },
  {
   "cell_type": "code",
   "execution_count": 217,
   "id": "8bababc5",
   "metadata": {},
   "outputs": [
    {
     "data": {
      "text/plain": [
       "'lemon'"
      ]
     },
     "execution_count": 217,
     "metadata": {},
     "output_type": "execute_result"
    }
   ],
   "source": [
    "fruits[-1]"
   ]
  },
  {
   "cell_type": "code",
   "execution_count": 218,
   "id": "875ddb9e",
   "metadata": {},
   "outputs": [
    {
     "data": {
      "text/plain": [
       "('lemon', 'mango', 'orange', 'banana')"
      ]
     },
     "execution_count": 218,
     "metadata": {},
     "output_type": "execute_result"
    }
   ],
   "source": [
    "fruits[::-1]"
   ]
  },
  {
   "cell_type": "code",
   "execution_count": 219,
   "id": "657cfba5",
   "metadata": {},
   "outputs": [
    {
     "data": {
      "text/plain": [
       "('banana', 'mango')"
      ]
     },
     "execution_count": 219,
     "metadata": {},
     "output_type": "execute_result"
    }
   ],
   "source": [
    "fruits[::2]"
   ]
  },
  {
   "cell_type": "code",
   "execution_count": 220,
   "id": "430dd6fe",
   "metadata": {},
   "outputs": [
    {
     "data": {
      "text/plain": [
       "('banana', 'orange', 'mango', 'lemon')"
      ]
     },
     "execution_count": 220,
     "metadata": {},
     "output_type": "execute_result"
    }
   ],
   "source": [
    "fruits"
   ]
  },
  {
   "cell_type": "code",
   "execution_count": 221,
   "id": "a2e95789",
   "metadata": {},
   "outputs": [],
   "source": [
    "tpl = ('item1', 'item2', 'item3','item4')"
   ]
  },
  {
   "cell_type": "code",
   "execution_count": 223,
   "id": "ffd0db35",
   "metadata": {},
   "outputs": [],
   "source": [
    "lst = list(tpl)"
   ]
  },
  {
   "cell_type": "code",
   "execution_count": 224,
   "id": "50ca7721",
   "metadata": {},
   "outputs": [
    {
     "data": {
      "text/plain": [
       "['item1', 'item2', 'item3', 'item4']"
      ]
     },
     "execution_count": 224,
     "metadata": {},
     "output_type": "execute_result"
    }
   ],
   "source": [
    "lst"
   ]
  },
  {
   "cell_type": "code",
   "execution_count": 225,
   "id": "81990b4c",
   "metadata": {},
   "outputs": [],
   "source": [
    "lst[1] = 'Item2'"
   ]
  },
  {
   "cell_type": "code",
   "execution_count": 226,
   "id": "faac3349",
   "metadata": {},
   "outputs": [],
   "source": [
    "tpl = tuple(lst)"
   ]
  },
  {
   "cell_type": "code",
   "execution_count": 227,
   "id": "3c15ecb9",
   "metadata": {},
   "outputs": [
    {
     "data": {
      "text/plain": [
       "('item1', 'Item2', 'item3', 'item4')"
      ]
     },
     "execution_count": 227,
     "metadata": {},
     "output_type": "execute_result"
    }
   ],
   "source": [
    "tpl"
   ]
  },
  {
   "cell_type": "code",
   "execution_count": 228,
   "id": "8cd7fb2f",
   "metadata": {},
   "outputs": [
    {
     "data": {
      "text/plain": [
       "True"
      ]
     },
     "execution_count": 228,
     "metadata": {},
     "output_type": "execute_result"
    }
   ],
   "source": [
    "'Item2' in tpl"
   ]
  },
  {
   "cell_type": "code",
   "execution_count": 230,
   "id": "7e8b6b0a",
   "metadata": {},
   "outputs": [
    {
     "ename": "AttributeError",
     "evalue": "'tuple' object has no attribute 'sort'",
     "output_type": "error",
     "traceback": [
      "\u001b[0;31m---------------------------------------------------------------------------\u001b[0m",
      "\u001b[0;31mAttributeError\u001b[0m                            Traceback (most recent call last)",
      "\u001b[0;32m<ipython-input-230-f0f74fd34b0d>\u001b[0m in \u001b[0;36m<module>\u001b[0;34m\u001b[0m\n\u001b[0;32m----> 1\u001b[0;31m \u001b[0mtpl\u001b[0m\u001b[0;34m.\u001b[0m\u001b[0msort\u001b[0m\u001b[0;34m(\u001b[0m\u001b[0;34m)\u001b[0m\u001b[0;34m\u001b[0m\u001b[0;34m\u001b[0m\u001b[0m\n\u001b[0m",
      "\u001b[0;31mAttributeError\u001b[0m: 'tuple' object has no attribute 'sort'"
     ]
    }
   ],
   "source": [
    "tpl.sort()"
   ]
  },
  {
   "cell_type": "code",
   "execution_count": 232,
   "id": "40a94e1f",
   "metadata": {},
   "outputs": [],
   "source": [
    "del tpl"
   ]
  },
  {
   "cell_type": "code",
   "execution_count": 234,
   "id": "949e27dd",
   "metadata": {},
   "outputs": [],
   "source": [
    "del fruits"
   ]
  },
  {
   "cell_type": "code",
   "execution_count": 236,
   "id": "dceba62a",
   "metadata": {},
   "outputs": [
    {
     "ename": "NameError",
     "evalue": "name 'fruits' is not defined",
     "output_type": "error",
     "traceback": [
      "\u001b[0;31m---------------------------------------------------------------------------\u001b[0m",
      "\u001b[0;31mNameError\u001b[0m                                 Traceback (most recent call last)",
      "\u001b[0;32m<ipython-input-236-5842b46f59fb>\u001b[0m in \u001b[0;36m<module>\u001b[0;34m\u001b[0m\n\u001b[0;32m----> 1\u001b[0;31m \u001b[0mfruits\u001b[0m\u001b[0;34m\u001b[0m\u001b[0;34m\u001b[0m\u001b[0m\n\u001b[0m",
      "\u001b[0;31mNameError\u001b[0m: name 'fruits' is not defined"
     ]
    }
   ],
   "source": [
    "fruits"
   ]
  },
  {
   "cell_type": "markdown",
   "id": "56f942d0",
   "metadata": {},
   "source": [
    "## Set"
   ]
  },
  {
   "cell_type": "code",
   "execution_count": 237,
   "id": "5031bd78",
   "metadata": {},
   "outputs": [],
   "source": [
    "fruits = {'banana', 'orange', 'mango', 'lemon'}"
   ]
  },
  {
   "cell_type": "code",
   "execution_count": 238,
   "id": "2311aa76",
   "metadata": {},
   "outputs": [
    {
     "data": {
      "text/plain": [
       "{'banana', 'lemon', 'mango', 'orange'}"
      ]
     },
     "execution_count": 238,
     "metadata": {},
     "output_type": "execute_result"
    }
   ],
   "source": [
    "fruits"
   ]
  },
  {
   "cell_type": "code",
   "execution_count": 239,
   "id": "c33cfdde",
   "metadata": {},
   "outputs": [
    {
     "data": {
      "text/plain": [
       "4"
      ]
     },
     "execution_count": 239,
     "metadata": {},
     "output_type": "execute_result"
    }
   ],
   "source": [
    "len(fruits)"
   ]
  },
  {
   "cell_type": "code",
   "execution_count": 240,
   "id": "c2215e41",
   "metadata": {},
   "outputs": [
    {
     "data": {
      "text/plain": [
       "True"
      ]
     },
     "execution_count": 240,
     "metadata": {},
     "output_type": "execute_result"
    }
   ],
   "source": [
    "'mango' in fruits"
   ]
  },
  {
   "cell_type": "code",
   "execution_count": 241,
   "id": "c60d9349",
   "metadata": {},
   "outputs": [
    {
     "data": {
      "text/plain": [
       "False"
      ]
     },
     "execution_count": 241,
     "metadata": {},
     "output_type": "execute_result"
    }
   ],
   "source": [
    "'Apple' in fruits"
   ]
  },
  {
   "cell_type": "code",
   "execution_count": 242,
   "id": "53c6666f",
   "metadata": {},
   "outputs": [],
   "source": [
    "fruits.add('apple')"
   ]
  },
  {
   "cell_type": "code",
   "execution_count": 243,
   "id": "e4877aec",
   "metadata": {},
   "outputs": [
    {
     "data": {
      "text/plain": [
       "{'apple', 'banana', 'lemon', 'mango', 'orange'}"
      ]
     },
     "execution_count": 243,
     "metadata": {},
     "output_type": "execute_result"
    }
   ],
   "source": [
    "fruits"
   ]
  },
  {
   "cell_type": "code",
   "execution_count": 245,
   "id": "29ca50a4",
   "metadata": {},
   "outputs": [],
   "source": [
    "vegetables = ('tomato', 'potato', 'cabbage','onion', 'carrot')"
   ]
  },
  {
   "cell_type": "code",
   "execution_count": 246,
   "id": "49a5353c",
   "metadata": {},
   "outputs": [
    {
     "data": {
      "text/plain": [
       "('tomato', 'potato', 'cabbage', 'onion', 'carrot')"
      ]
     },
     "execution_count": 246,
     "metadata": {},
     "output_type": "execute_result"
    }
   ],
   "source": [
    "vegetables"
   ]
  },
  {
   "cell_type": "code",
   "execution_count": 247,
   "id": "4c935ba6",
   "metadata": {},
   "outputs": [],
   "source": [
    "fruits.update(vegetables)"
   ]
  },
  {
   "cell_type": "code",
   "execution_count": 249,
   "id": "789e10c6",
   "metadata": {},
   "outputs": [],
   "source": [
    "fruits.clear()"
   ]
  },
  {
   "cell_type": "code",
   "execution_count": 250,
   "id": "c340a2df",
   "metadata": {},
   "outputs": [
    {
     "data": {
      "text/plain": [
       "set()"
      ]
     },
     "execution_count": 250,
     "metadata": {},
     "output_type": "execute_result"
    }
   ],
   "source": [
    "fruits"
   ]
  },
  {
   "cell_type": "code",
   "execution_count": 251,
   "id": "be00c07f",
   "metadata": {},
   "outputs": [],
   "source": [
    "fruits = {'banana', 'orange', 'mango', 'lemon'}"
   ]
  },
  {
   "cell_type": "code",
   "execution_count": 252,
   "id": "b247c397",
   "metadata": {},
   "outputs": [],
   "source": [
    "del fruits"
   ]
  },
  {
   "cell_type": "code",
   "execution_count": 253,
   "id": "7099ffde",
   "metadata": {},
   "outputs": [
    {
     "ename": "NameError",
     "evalue": "name 'fruits' is not defined",
     "output_type": "error",
     "traceback": [
      "\u001b[0;31m---------------------------------------------------------------------------\u001b[0m",
      "\u001b[0;31mNameError\u001b[0m                                 Traceback (most recent call last)",
      "\u001b[0;32m<ipython-input-253-5842b46f59fb>\u001b[0m in \u001b[0;36m<module>\u001b[0;34m\u001b[0m\n\u001b[0;32m----> 1\u001b[0;31m \u001b[0mfruits\u001b[0m\u001b[0;34m\u001b[0m\u001b[0;34m\u001b[0m\u001b[0m\n\u001b[0m",
      "\u001b[0;31mNameError\u001b[0m: name 'fruits' is not defined"
     ]
    }
   ],
   "source": [
    "fruits"
   ]
  },
  {
   "cell_type": "markdown",
   "id": "fc119e67",
   "metadata": {},
   "source": [
    "## Dictionary"
   ]
  },
  {
   "cell_type": "code",
   "execution_count": 254,
   "id": "a98e671c",
   "metadata": {},
   "outputs": [],
   "source": [
    "dct = {'key1': 'value1', 'key2': 'value2', 'key3': 'value3', 'key4': 'value4', 'key4': 'value4'}"
   ]
  },
  {
   "cell_type": "code",
   "execution_count": 255,
   "id": "b6378e33",
   "metadata": {},
   "outputs": [
    {
     "data": {
      "text/plain": [
       "{'key1': 'value1', 'key2': 'value2', 'key3': 'value3', 'key4': 'value4'}"
      ]
     },
     "execution_count": 255,
     "metadata": {},
     "output_type": "execute_result"
    }
   ],
   "source": [
    "dct"
   ]
  },
  {
   "cell_type": "code",
   "execution_count": 256,
   "id": "2fca1126",
   "metadata": {},
   "outputs": [
    {
     "data": {
      "text/plain": [
       "4"
      ]
     },
     "execution_count": 256,
     "metadata": {},
     "output_type": "execute_result"
    }
   ],
   "source": [
    "len(dct)"
   ]
  },
  {
   "cell_type": "code",
   "execution_count": 259,
   "id": "650cf37b",
   "metadata": {},
   "outputs": [
    {
     "data": {
      "text/plain": [
       "'value1'"
      ]
     },
     "execution_count": 259,
     "metadata": {},
     "output_type": "execute_result"
    }
   ],
   "source": [
    "dct['key1']"
   ]
  },
  {
   "cell_type": "code",
   "execution_count": 262,
   "id": "8b11d94f",
   "metadata": {},
   "outputs": [],
   "source": [
    "dct['key5'] = 'value5'"
   ]
  },
  {
   "cell_type": "code",
   "execution_count": 263,
   "id": "00f853e3",
   "metadata": {},
   "outputs": [
    {
     "data": {
      "text/plain": [
       "{'key1': 'value1',\n",
       " 'key2': 'value2',\n",
       " 'key3': 'value3',\n",
       " 'key4': 'value4',\n",
       " 5: {'key5', 'value5'},\n",
       " 'key5': 'value5'}"
      ]
     },
     "execution_count": 263,
     "metadata": {},
     "output_type": "execute_result"
    }
   ],
   "source": [
    "dct"
   ]
  },
  {
   "cell_type": "code",
   "execution_count": 264,
   "id": "880d7bfc",
   "metadata": {},
   "outputs": [
    {
     "ename": "AttributeError",
     "evalue": "'dict' object has no attribute 'append'",
     "output_type": "error",
     "traceback": [
      "\u001b[0;31m---------------------------------------------------------------------------\u001b[0m",
      "\u001b[0;31mAttributeError\u001b[0m                            Traceback (most recent call last)",
      "\u001b[0;32m<ipython-input-264-6157ce40927e>\u001b[0m in \u001b[0;36m<module>\u001b[0;34m\u001b[0m\n\u001b[0;32m----> 1\u001b[0;31m \u001b[0mdct\u001b[0m\u001b[0;34m.\u001b[0m\u001b[0mappend\u001b[0m\u001b[0;34m(\u001b[0m\u001b[0;34m'key6'\u001b[0m\u001b[0;34m)\u001b[0m\u001b[0;34m.\u001b[0m\u001b[0mvalue\u001b[0m\u001b[0;34m(\u001b[0m\u001b[0;34m'value6'\u001b[0m\u001b[0;34m)\u001b[0m\u001b[0;34m\u001b[0m\u001b[0;34m\u001b[0m\u001b[0m\n\u001b[0m",
      "\u001b[0;31mAttributeError\u001b[0m: 'dict' object has no attribute 'append'"
     ]
    }
   ],
   "source": [
    "dct.append('key6').value('value6')"
   ]
  },
  {
   "cell_type": "code",
   "execution_count": 265,
   "id": "68c0f564",
   "metadata": {},
   "outputs": [],
   "source": [
    "del dct[5]"
   ]
  },
  {
   "cell_type": "code",
   "execution_count": 266,
   "id": "38583ed4",
   "metadata": {},
   "outputs": [
    {
     "data": {
      "text/plain": [
       "{'key1': 'value1',\n",
       " 'key2': 'value2',\n",
       " 'key3': 'value3',\n",
       " 'key4': 'value4',\n",
       " 'key5': 'value5'}"
      ]
     },
     "execution_count": 266,
     "metadata": {},
     "output_type": "execute_result"
    }
   ],
   "source": [
    "dct"
   ]
  },
  {
   "cell_type": "code",
   "execution_count": 268,
   "id": "ec2a63eb",
   "metadata": {},
   "outputs": [
    {
     "data": {
      "text/plain": [
       "'value5'"
      ]
     },
     "execution_count": 268,
     "metadata": {},
     "output_type": "execute_result"
    }
   ],
   "source": [
    "dct.pop('key5')"
   ]
  },
  {
   "cell_type": "code",
   "execution_count": 269,
   "id": "8e821cf7",
   "metadata": {},
   "outputs": [
    {
     "data": {
      "text/plain": [
       "{'key1': 'value1', 'key2': 'value2', 'key3': 'value3', 'key4': 'value4'}"
      ]
     },
     "execution_count": 269,
     "metadata": {},
     "output_type": "execute_result"
    }
   ],
   "source": [
    "dct"
   ]
  },
  {
   "cell_type": "code",
   "execution_count": 270,
   "id": "322217e1",
   "metadata": {},
   "outputs": [],
   "source": [
    "items = dct"
   ]
  },
  {
   "cell_type": "code",
   "execution_count": 271,
   "id": "baed7060",
   "metadata": {},
   "outputs": [
    {
     "data": {
      "text/plain": [
       "{'key1': 'value1', 'key2': 'value2', 'key3': 'value3', 'key4': 'value4'}"
      ]
     },
     "execution_count": 271,
     "metadata": {},
     "output_type": "execute_result"
    }
   ],
   "source": [
    "items"
   ]
  },
  {
   "cell_type": "code",
   "execution_count": 272,
   "id": "3fba4040",
   "metadata": {},
   "outputs": [],
   "source": [
    "dct.clear()"
   ]
  },
  {
   "cell_type": "code",
   "execution_count": 273,
   "id": "1990c225",
   "metadata": {},
   "outputs": [
    {
     "data": {
      "text/plain": [
       "{}"
      ]
     },
     "execution_count": 273,
     "metadata": {},
     "output_type": "execute_result"
    }
   ],
   "source": [
    "dct"
   ]
  },
  {
   "cell_type": "code",
   "execution_count": 274,
   "id": "81f28065",
   "metadata": {},
   "outputs": [],
   "source": [
    "del items"
   ]
  },
  {
   "cell_type": "code",
   "execution_count": 275,
   "id": "c0be5e98",
   "metadata": {},
   "outputs": [
    {
     "ename": "NameError",
     "evalue": "name 'items' is not defined",
     "output_type": "error",
     "traceback": [
      "\u001b[0;31m---------------------------------------------------------------------------\u001b[0m",
      "\u001b[0;31mNameError\u001b[0m                                 Traceback (most recent call last)",
      "\u001b[0;32m<ipython-input-275-92fc115b3de9>\u001b[0m in \u001b[0;36m<module>\u001b[0;34m\u001b[0m\n\u001b[0;32m----> 1\u001b[0;31m \u001b[0mitems\u001b[0m\u001b[0;34m\u001b[0m\u001b[0;34m\u001b[0m\u001b[0m\n\u001b[0m",
      "\u001b[0;31mNameError\u001b[0m: name 'items' is not defined"
     ]
    }
   ],
   "source": [
    "items"
   ]
  },
  {
   "cell_type": "code",
   "execution_count": 276,
   "id": "f2f0daa4",
   "metadata": {},
   "outputs": [],
   "source": [
    "dct = {'key1':'value1', 'key2':'value2', 'key3':'value3', 'key4':'value4'}"
   ]
  },
  {
   "cell_type": "code",
   "execution_count": 277,
   "id": "e54aa5b6",
   "metadata": {},
   "outputs": [
    {
     "data": {
      "text/plain": [
       "True"
      ]
     },
     "execution_count": 277,
     "metadata": {},
     "output_type": "execute_result"
    }
   ],
   "source": [
    "'key2' in dct"
   ]
  },
  {
   "cell_type": "code",
   "execution_count": 278,
   "id": "0839315e",
   "metadata": {},
   "outputs": [
    {
     "data": {
      "text/plain": [
       "False"
      ]
     },
     "execution_count": 278,
     "metadata": {},
     "output_type": "execute_result"
    }
   ],
   "source": [
    "'key10' in dct"
   ]
  },
  {
   "cell_type": "markdown",
   "id": "1a0cef1c",
   "metadata": {},
   "source": [
    "## List Comprehension"
   ]
  },
  {
   "cell_type": "code",
   "execution_count": 279,
   "id": "0820d03c",
   "metadata": {},
   "outputs": [],
   "source": [
    "string = 'Python'"
   ]
  },
  {
   "cell_type": "code",
   "execution_count": 280,
   "id": "ead2b7bf",
   "metadata": {},
   "outputs": [
    {
     "data": {
      "text/plain": [
       "['P', 'y', 't', 'h', 'o', 'n']"
      ]
     },
     "execution_count": 280,
     "metadata": {},
     "output_type": "execute_result"
    }
   ],
   "source": [
    "[i for i in string]"
   ]
  },
  {
   "cell_type": "code",
   "execution_count": 281,
   "id": "23d0802a",
   "metadata": {},
   "outputs": [
    {
     "data": {
      "text/plain": [
       "[0, 1, 2, 3, 4, 5, 6, 7, 8, 9, 10]"
      ]
     },
     "execution_count": 281,
     "metadata": {},
     "output_type": "execute_result"
    }
   ],
   "source": [
    "[i for i in range(11)]"
   ]
  },
  {
   "cell_type": "code",
   "execution_count": 282,
   "id": "ee720456",
   "metadata": {},
   "outputs": [
    {
     "data": {
      "text/plain": [
       "[1, 2, 3, 4, 5, 6, 7, 8, 9, 10]"
      ]
     },
     "execution_count": 282,
     "metadata": {},
     "output_type": "execute_result"
    }
   ],
   "source": [
    "[i for i in range(1, 11)]"
   ]
  },
  {
   "cell_type": "code",
   "execution_count": 283,
   "id": "aa409af9",
   "metadata": {},
   "outputs": [
    {
     "data": {
      "text/plain": [
       "[(1, 1),\n",
       " (2, 4),\n",
       " (3, 9),\n",
       " (4, 16),\n",
       " (5, 25),\n",
       " (6, 36),\n",
       " (7, 49),\n",
       " (8, 64),\n",
       " (9, 81),\n",
       " (10, 100)]"
      ]
     },
     "execution_count": 283,
     "metadata": {},
     "output_type": "execute_result"
    }
   ],
   "source": [
    "[(i, i*i) for i in range(1, 11)]"
   ]
  },
  {
   "cell_type": "code",
   "execution_count": 285,
   "id": "c4ae27db",
   "metadata": {},
   "outputs": [
    {
     "data": {
      "text/plain": [
       "[2, 4, 6, 8, 10, 12, 14, 16, 18, 20]"
      ]
     },
     "execution_count": 285,
     "metadata": {},
     "output_type": "execute_result"
    }
   ],
   "source": [
    "[i for i in range(1, 21) if i%2==0]"
   ]
  },
  {
   "cell_type": "code",
   "execution_count": 286,
   "id": "d60c541b",
   "metadata": {},
   "outputs": [
    {
     "data": {
      "text/plain": [
       "[1, 3, 5, 7, 9, 11, 13, 15, 17, 19]"
      ]
     },
     "execution_count": 286,
     "metadata": {},
     "output_type": "execute_result"
    }
   ],
   "source": [
    "[i for i in range(1, 21) if i%2==1]"
   ]
  },
  {
   "cell_type": "code",
   "execution_count": 287,
   "id": "48707b74",
   "metadata": {},
   "outputs": [],
   "source": [
    "list_of_lists = [[1, 2, 3], [4, 5, 6], [7, 8, 9]]"
   ]
  },
  {
   "cell_type": "code",
   "execution_count": 288,
   "id": "f7e9422c",
   "metadata": {},
   "outputs": [
    {
     "data": {
      "text/plain": [
       "[1, 2, 3, 4, 5, 6, 7, 8, 9]"
      ]
     },
     "execution_count": 288,
     "metadata": {},
     "output_type": "execute_result"
    }
   ],
   "source": [
    "[number for lists in list_of_lists for number in lists]"
   ]
  },
  {
   "cell_type": "markdown",
   "id": "22985232",
   "metadata": {},
   "source": [
    "## Lambda Function"
   ]
  },
  {
   "cell_type": "code",
   "execution_count": 289,
   "id": "46a5a339",
   "metadata": {},
   "outputs": [],
   "source": [
    "add = lambda a, b: a + b"
   ]
  },
  {
   "cell_type": "code",
   "execution_count": 290,
   "id": "13086dd6",
   "metadata": {},
   "outputs": [
    {
     "data": {
      "text/plain": [
       "30"
      ]
     },
     "execution_count": 290,
     "metadata": {},
     "output_type": "execute_result"
    }
   ],
   "source": [
    "add(10, 20)"
   ]
  },
  {
   "cell_type": "code",
   "execution_count": 291,
   "id": "13acc6b1",
   "metadata": {},
   "outputs": [],
   "source": [
    "even = lambda numbers: [i for i in numbers if i%2==0]"
   ]
  },
  {
   "cell_type": "code",
   "execution_count": 292,
   "id": "42771534",
   "metadata": {},
   "outputs": [
    {
     "data": {
      "text/plain": [
       "[0, 2, 4, 6, 8, 10, 12, 14, 16, 18]"
      ]
     },
     "execution_count": 292,
     "metadata": {},
     "output_type": "execute_result"
    }
   ],
   "source": [
    "even(range(20))"
   ]
  },
  {
   "cell_type": "code",
   "execution_count": 293,
   "id": "08477e45",
   "metadata": {},
   "outputs": [],
   "source": [
    "square = lambda x: x*x"
   ]
  },
  {
   "cell_type": "code",
   "execution_count": 294,
   "id": "f6b56aed",
   "metadata": {},
   "outputs": [
    {
     "data": {
      "text/plain": [
       "4"
      ]
     },
     "execution_count": 294,
     "metadata": {},
     "output_type": "execute_result"
    }
   ],
   "source": [
    "square(2)"
   ]
  },
  {
   "cell_type": "code",
   "execution_count": 295,
   "id": "335574d8",
   "metadata": {},
   "outputs": [
    {
     "data": {
      "text/plain": [
       "100"
      ]
     },
     "execution_count": 295,
     "metadata": {},
     "output_type": "execute_result"
    }
   ],
   "source": [
    "square(10)"
   ]
  },
  {
   "cell_type": "code",
   "execution_count": 296,
   "id": "cfac1b03",
   "metadata": {},
   "outputs": [],
   "source": [
    "numbers = [-4, -3, -2, -1, 0, 2, 4, 6]"
   ]
  },
  {
   "cell_type": "code",
   "execution_count": 297,
   "id": "83aca801",
   "metadata": {},
   "outputs": [
    {
     "data": {
      "text/plain": [
       "[-4, -3, -2, -1]"
      ]
     },
     "execution_count": 297,
     "metadata": {},
     "output_type": "execute_result"
    }
   ],
   "source": [
    "[i for i in numbers if i < 0]"
   ]
  },
  {
   "cell_type": "code",
   "execution_count": 298,
   "id": "fc6f5f9f",
   "metadata": {},
   "outputs": [],
   "source": [
    "list_of_lists =[[[1, 2, 3]], [[4, 5, 6]], [[7, 8, 9]]]"
   ]
  },
  {
   "cell_type": "code",
   "execution_count": 301,
   "id": "c06c9d49",
   "metadata": {},
   "outputs": [
    {
     "data": {
      "text/plain": [
       "[1, 2, 3, 4, 5, 6, 7, 8, 9]"
      ]
     },
     "execution_count": 301,
     "metadata": {},
     "output_type": "execute_result"
    }
   ],
   "source": [
    "[number for lists in list_of_lists for row in lists for number in row]"
   ]
  },
  {
   "cell_type": "code",
   "execution_count": 302,
   "id": "ce9f845a",
   "metadata": {},
   "outputs": [
    {
     "data": {
      "text/plain": [
       "[1, 2, 3, 4, 5, 6, 7, 8, 9]"
      ]
     },
     "execution_count": 302,
     "metadata": {},
     "output_type": "execute_result"
    }
   ],
   "source": [
    "[number for lists in list_of_lists for row in lists for number in row]"
   ]
  },
  {
   "cell_type": "code",
   "execution_count": null,
   "id": "08f0cfb4",
   "metadata": {},
   "outputs": [],
   "source": []
  }
 ],
 "metadata": {
  "kernelspec": {
   "display_name": "Python 3",
   "language": "python",
   "name": "python3"
  },
  "language_info": {
   "codemirror_mode": {
    "name": "ipython",
    "version": 3
   },
   "file_extension": ".py",
   "mimetype": "text/x-python",
   "name": "python",
   "nbconvert_exporter": "python",
   "pygments_lexer": "ipython3",
   "version": "3.8.8"
  }
 },
 "nbformat": 4,
 "nbformat_minor": 5
}
